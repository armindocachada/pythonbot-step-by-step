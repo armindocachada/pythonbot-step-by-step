{
 "cells": [
  {
   "cell_type": "code",
   "execution_count": 1,
   "id": "144956a6",
   "metadata": {},
   "outputs": [],
   "source": [
    "from selenium import webdriver as wd\n",
    "\n",
    "import chromedriver_binary\n",
    "import random\n",
    "import time\n",
    "import pandas as pd\n",
    "from bs4 import BeautifulSoup"
   ]
  },
  {
   "cell_type": "code",
   "execution_count": 2,
   "id": "1aaa017b",
   "metadata": {},
   "outputs": [],
   "source": [
    "driver = wd.Chrome()\n",
    "driver.implicitly_wait(10)\n",
    "\n"
   ]
  },
  {
   "cell_type": "markdown",
   "id": "7060cdf3",
   "metadata": {},
   "source": [
    "# Login"
   ]
  },
  {
   "cell_type": "code",
   "execution_count": 3,
   "id": "52899aef",
   "metadata": {},
   "outputs": [],
   "source": [
    "credentials = dict(line.strip().split('=') for line in open('docker/leisure_centre.properties'))"
   ]
  },
  {
   "cell_type": "code",
   "execution_count": 4,
   "id": "5a532a9e",
   "metadata": {},
   "outputs": [
    {
     "ename": "WebDriverException",
     "evalue": "Message: chrome not reachable\n  (Session info: chrome=106.0.5249.119)\n",
     "output_type": "error",
     "traceback": [
      "\u001b[1;31m---------------------------------------------------------------------------\u001b[0m",
      "\u001b[1;31mWebDriverException\u001b[0m                        Traceback (most recent call last)",
      "\u001b[1;32m~\\AppData\\Local\\Temp/ipykernel_25692/1331984637.py\u001b[0m in \u001b[0;36m<module>\u001b[1;34m\u001b[0m\n\u001b[1;32m----> 1\u001b[1;33m \u001b[0memail_address\u001b[0m \u001b[1;33m=\u001b[0m \u001b[0mdriver\u001b[0m\u001b[1;33m.\u001b[0m\u001b[0mfind_element_by_xpath\u001b[0m\u001b[1;33m(\u001b[0m\u001b[1;34m'//*[@id=\"account-login-email\"]'\u001b[0m\u001b[1;33m)\u001b[0m\u001b[1;33m\u001b[0m\u001b[1;33m\u001b[0m\u001b[0m\n\u001b[0m\u001b[0;32m      2\u001b[0m \u001b[0memail_address\u001b[0m\u001b[1;33m.\u001b[0m\u001b[0msend_keys\u001b[0m\u001b[1;33m(\u001b[0m\u001b[0mcredentials\u001b[0m\u001b[1;33m[\u001b[0m\u001b[1;34m\"username\"\u001b[0m\u001b[1;33m]\u001b[0m\u001b[1;33m)\u001b[0m\u001b[1;33m\u001b[0m\u001b[1;33m\u001b[0m\u001b[0m\n",
      "\u001b[1;32m~\\anaconda3\\envs\\badminton_bot\\lib\\site-packages\\selenium\\webdriver\\remote\\webdriver.py\u001b[0m in \u001b[0;36mfind_element_by_xpath\u001b[1;34m(self, xpath)\u001b[0m\n\u001b[0;32m    392\u001b[0m             \u001b[0melement\u001b[0m \u001b[1;33m=\u001b[0m \u001b[0mdriver\u001b[0m\u001b[1;33m.\u001b[0m\u001b[0mfind_element_by_xpath\u001b[0m\u001b[1;33m(\u001b[0m\u001b[1;34m'//div/td[1]'\u001b[0m\u001b[1;33m)\u001b[0m\u001b[1;33m\u001b[0m\u001b[1;33m\u001b[0m\u001b[0m\n\u001b[0;32m    393\u001b[0m         \"\"\"\n\u001b[1;32m--> 394\u001b[1;33m         \u001b[1;32mreturn\u001b[0m \u001b[0mself\u001b[0m\u001b[1;33m.\u001b[0m\u001b[0mfind_element\u001b[0m\u001b[1;33m(\u001b[0m\u001b[0mby\u001b[0m\u001b[1;33m=\u001b[0m\u001b[0mBy\u001b[0m\u001b[1;33m.\u001b[0m\u001b[0mXPATH\u001b[0m\u001b[1;33m,\u001b[0m \u001b[0mvalue\u001b[0m\u001b[1;33m=\u001b[0m\u001b[0mxpath\u001b[0m\u001b[1;33m)\u001b[0m\u001b[1;33m\u001b[0m\u001b[1;33m\u001b[0m\u001b[0m\n\u001b[0m\u001b[0;32m    395\u001b[0m \u001b[1;33m\u001b[0m\u001b[0m\n\u001b[0;32m    396\u001b[0m     \u001b[1;32mdef\u001b[0m \u001b[0mfind_elements_by_xpath\u001b[0m\u001b[1;33m(\u001b[0m\u001b[0mself\u001b[0m\u001b[1;33m,\u001b[0m \u001b[0mxpath\u001b[0m\u001b[1;33m)\u001b[0m\u001b[1;33m:\u001b[0m\u001b[1;33m\u001b[0m\u001b[1;33m\u001b[0m\u001b[0m\n",
      "\u001b[1;32m~\\anaconda3\\envs\\badminton_bot\\lib\\site-packages\\selenium\\webdriver\\remote\\webdriver.py\u001b[0m in \u001b[0;36mfind_element\u001b[1;34m(self, by, value)\u001b[0m\n\u001b[0;32m    974\u001b[0m                 \u001b[0mby\u001b[0m \u001b[1;33m=\u001b[0m \u001b[0mBy\u001b[0m\u001b[1;33m.\u001b[0m\u001b[0mCSS_SELECTOR\u001b[0m\u001b[1;33m\u001b[0m\u001b[1;33m\u001b[0m\u001b[0m\n\u001b[0;32m    975\u001b[0m                 \u001b[0mvalue\u001b[0m \u001b[1;33m=\u001b[0m \u001b[1;34m'[name=\"%s\"]'\u001b[0m \u001b[1;33m%\u001b[0m \u001b[0mvalue\u001b[0m\u001b[1;33m\u001b[0m\u001b[1;33m\u001b[0m\u001b[0m\n\u001b[1;32m--> 976\u001b[1;33m         return self.execute(Command.FIND_ELEMENT, {\n\u001b[0m\u001b[0;32m    977\u001b[0m             \u001b[1;34m'using'\u001b[0m\u001b[1;33m:\u001b[0m \u001b[0mby\u001b[0m\u001b[1;33m,\u001b[0m\u001b[1;33m\u001b[0m\u001b[1;33m\u001b[0m\u001b[0m\n\u001b[0;32m    978\u001b[0m             'value': value})['value']\n",
      "\u001b[1;32m~\\anaconda3\\envs\\badminton_bot\\lib\\site-packages\\selenium\\webdriver\\remote\\webdriver.py\u001b[0m in \u001b[0;36mexecute\u001b[1;34m(self, driver_command, params)\u001b[0m\n\u001b[0;32m    319\u001b[0m         \u001b[0mresponse\u001b[0m \u001b[1;33m=\u001b[0m \u001b[0mself\u001b[0m\u001b[1;33m.\u001b[0m\u001b[0mcommand_executor\u001b[0m\u001b[1;33m.\u001b[0m\u001b[0mexecute\u001b[0m\u001b[1;33m(\u001b[0m\u001b[0mdriver_command\u001b[0m\u001b[1;33m,\u001b[0m \u001b[0mparams\u001b[0m\u001b[1;33m)\u001b[0m\u001b[1;33m\u001b[0m\u001b[1;33m\u001b[0m\u001b[0m\n\u001b[0;32m    320\u001b[0m         \u001b[1;32mif\u001b[0m \u001b[0mresponse\u001b[0m\u001b[1;33m:\u001b[0m\u001b[1;33m\u001b[0m\u001b[1;33m\u001b[0m\u001b[0m\n\u001b[1;32m--> 321\u001b[1;33m             \u001b[0mself\u001b[0m\u001b[1;33m.\u001b[0m\u001b[0merror_handler\u001b[0m\u001b[1;33m.\u001b[0m\u001b[0mcheck_response\u001b[0m\u001b[1;33m(\u001b[0m\u001b[0mresponse\u001b[0m\u001b[1;33m)\u001b[0m\u001b[1;33m\u001b[0m\u001b[1;33m\u001b[0m\u001b[0m\n\u001b[0m\u001b[0;32m    322\u001b[0m             response['value'] = self._unwrap_value(\n\u001b[0;32m    323\u001b[0m                 response.get('value', None))\n",
      "\u001b[1;32m~\\anaconda3\\envs\\badminton_bot\\lib\\site-packages\\selenium\\webdriver\\remote\\errorhandler.py\u001b[0m in \u001b[0;36mcheck_response\u001b[1;34m(self, response)\u001b[0m\n\u001b[0;32m    240\u001b[0m                 \u001b[0malert_text\u001b[0m \u001b[1;33m=\u001b[0m \u001b[0mvalue\u001b[0m\u001b[1;33m[\u001b[0m\u001b[1;34m'alert'\u001b[0m\u001b[1;33m]\u001b[0m\u001b[1;33m.\u001b[0m\u001b[0mget\u001b[0m\u001b[1;33m(\u001b[0m\u001b[1;34m'text'\u001b[0m\u001b[1;33m)\u001b[0m\u001b[1;33m\u001b[0m\u001b[1;33m\u001b[0m\u001b[0m\n\u001b[0;32m    241\u001b[0m             \u001b[1;32mraise\u001b[0m \u001b[0mexception_class\u001b[0m\u001b[1;33m(\u001b[0m\u001b[0mmessage\u001b[0m\u001b[1;33m,\u001b[0m \u001b[0mscreen\u001b[0m\u001b[1;33m,\u001b[0m \u001b[0mstacktrace\u001b[0m\u001b[1;33m,\u001b[0m \u001b[0malert_text\u001b[0m\u001b[1;33m)\u001b[0m\u001b[1;33m\u001b[0m\u001b[1;33m\u001b[0m\u001b[0m\n\u001b[1;32m--> 242\u001b[1;33m         \u001b[1;32mraise\u001b[0m \u001b[0mexception_class\u001b[0m\u001b[1;33m(\u001b[0m\u001b[0mmessage\u001b[0m\u001b[1;33m,\u001b[0m \u001b[0mscreen\u001b[0m\u001b[1;33m,\u001b[0m \u001b[0mstacktrace\u001b[0m\u001b[1;33m)\u001b[0m\u001b[1;33m\u001b[0m\u001b[1;33m\u001b[0m\u001b[0m\n\u001b[0m\u001b[0;32m    243\u001b[0m \u001b[1;33m\u001b[0m\u001b[0m\n\u001b[0;32m    244\u001b[0m     \u001b[1;32mdef\u001b[0m \u001b[0m_value_or_default\u001b[0m\u001b[1;33m(\u001b[0m\u001b[0mself\u001b[0m\u001b[1;33m,\u001b[0m \u001b[0mobj\u001b[0m\u001b[1;33m,\u001b[0m \u001b[0mkey\u001b[0m\u001b[1;33m,\u001b[0m \u001b[0mdefault\u001b[0m\u001b[1;33m)\u001b[0m\u001b[1;33m:\u001b[0m\u001b[1;33m\u001b[0m\u001b[1;33m\u001b[0m\u001b[0m\n",
      "\u001b[1;31mWebDriverException\u001b[0m: Message: chrome not reachable\n  (Session info: chrome=106.0.5249.119)\n"
     ]
    }
   ],
   "source": [
    "email_address = driver.find_element_by_xpath('//*[@id=\"account-login-email\"]')\n",
    "email_address.send_keys(credentials[\"username\"])"
   ]
  },
  {
   "cell_type": "code",
   "execution_count": null,
   "id": "59be1a08",
   "metadata": {},
   "outputs": [],
   "source": [
    "password = driver.find_element_by_xpath('//*[@id=\"account-login-password\"]')\n",
    "password.send_keys(credentials[\"password\"])"
   ]
  },
  {
   "cell_type": "code",
   "execution_count": 7,
   "id": "9cbaaa3d",
   "metadata": {},
   "outputs": [],
   "source": [
    "#submitLoginSpan = wd.find_element_by_id(\"account-login-submit-message\")\n",
    "#submitLoginButton = submitLoginSpan.find_element_by_xpath(\"..\")\n",
    "#submitLoginButton.click()"
   ]
  },
  {
   "cell_type": "code",
   "execution_count": 8,
   "id": "10e36171",
   "metadata": {},
   "outputs": [],
   "source": [
    "#submitLoginSpan = wd.find_element_by_id(\"account-login-submit-message\")\n",
    "#submitLoginButton = submitLoginSpan.parent\n",
    "#submitLoginButton.click()"
   ]
  },
  {
   "cell_type": "code",
   "execution_count": 9,
   "id": "88433889",
   "metadata": {},
   "outputs": [],
   "source": [
    "submitLoginButton = driver.find_element_by_xpath('//span[@id=\"account-login-submit-message\"]/ancestor::button')\n",
    "submitLoginButton.click()"
   ]
  },
  {
   "cell_type": "markdown",
   "id": "1eca4ea7",
   "metadata": {
    "tags": []
   },
   "source": [
    "# Make A Booking"
   ]
  },
  {
   "cell_type": "markdown",
   "id": "53f9fbe9",
   "metadata": {},
   "source": [
    "First I tried to retrieve the Book Now button using a simple XPATH expression:"
   ]
  },
  {
   "cell_type": "code",
   "execution_count": 10,
   "id": "8add6966",
   "metadata": {},
   "outputs": [
    {
     "ename": "ElementNotInteractableException",
     "evalue": "Message: element not interactable\n  (Session info: chrome=106.0.5249.119)\n",
     "output_type": "error",
     "traceback": [
      "\u001b[1;31m---------------------------------------------------------------------------\u001b[0m",
      "\u001b[1;31mElementNotInteractableException\u001b[0m           Traceback (most recent call last)",
      "\u001b[1;32m~\\AppData\\Local\\Temp/ipykernel_36092/2972636198.py\u001b[0m in \u001b[0;36m<module>\u001b[1;34m\u001b[0m\n\u001b[0;32m      1\u001b[0m \u001b[0mbookNowButton\u001b[0m \u001b[1;33m=\u001b[0m \u001b[0mdriver\u001b[0m\u001b[1;33m.\u001b[0m\u001b[0mfind_element_by_xpath\u001b[0m\u001b[1;33m(\u001b[0m\u001b[1;34m\"//a[@data-test-id='account-bookings-dropins']\"\u001b[0m\u001b[1;33m)\u001b[0m\u001b[1;33m\u001b[0m\u001b[1;33m\u001b[0m\u001b[0m\n\u001b[0;32m      2\u001b[0m \u001b[1;31m#bookNowButton = driver.find_element(By.XPATH, \"//a[@data-test-id='account-bookings-dropins']\")\u001b[0m\u001b[1;33m\u001b[0m\u001b[1;33m\u001b[0m\u001b[1;33m\u001b[0m\u001b[0m\n\u001b[1;32m----> 3\u001b[1;33m \u001b[0mbookNowButton\u001b[0m\u001b[1;33m.\u001b[0m\u001b[0mclick\u001b[0m\u001b[1;33m(\u001b[0m\u001b[1;33m)\u001b[0m\u001b[1;33m\u001b[0m\u001b[1;33m\u001b[0m\u001b[0m\n\u001b[0m",
      "\u001b[1;32m~\\anaconda3\\envs\\badminton_bot\\lib\\site-packages\\selenium\\webdriver\\remote\\webelement.py\u001b[0m in \u001b[0;36mclick\u001b[1;34m(self)\u001b[0m\n\u001b[0;32m     78\u001b[0m     \u001b[1;32mdef\u001b[0m \u001b[0mclick\u001b[0m\u001b[1;33m(\u001b[0m\u001b[0mself\u001b[0m\u001b[1;33m)\u001b[0m\u001b[1;33m:\u001b[0m\u001b[1;33m\u001b[0m\u001b[1;33m\u001b[0m\u001b[0m\n\u001b[0;32m     79\u001b[0m         \u001b[1;34m\"\"\"Clicks the element.\"\"\"\u001b[0m\u001b[1;33m\u001b[0m\u001b[1;33m\u001b[0m\u001b[0m\n\u001b[1;32m---> 80\u001b[1;33m         \u001b[0mself\u001b[0m\u001b[1;33m.\u001b[0m\u001b[0m_execute\u001b[0m\u001b[1;33m(\u001b[0m\u001b[0mCommand\u001b[0m\u001b[1;33m.\u001b[0m\u001b[0mCLICK_ELEMENT\u001b[0m\u001b[1;33m)\u001b[0m\u001b[1;33m\u001b[0m\u001b[1;33m\u001b[0m\u001b[0m\n\u001b[0m\u001b[0;32m     81\u001b[0m \u001b[1;33m\u001b[0m\u001b[0m\n\u001b[0;32m     82\u001b[0m     \u001b[1;32mdef\u001b[0m \u001b[0msubmit\u001b[0m\u001b[1;33m(\u001b[0m\u001b[0mself\u001b[0m\u001b[1;33m)\u001b[0m\u001b[1;33m:\u001b[0m\u001b[1;33m\u001b[0m\u001b[1;33m\u001b[0m\u001b[0m\n",
      "\u001b[1;32m~\\anaconda3\\envs\\badminton_bot\\lib\\site-packages\\selenium\\webdriver\\remote\\webelement.py\u001b[0m in \u001b[0;36m_execute\u001b[1;34m(self, command, params)\u001b[0m\n\u001b[0;32m    631\u001b[0m             \u001b[0mparams\u001b[0m \u001b[1;33m=\u001b[0m \u001b[1;33m{\u001b[0m\u001b[1;33m}\u001b[0m\u001b[1;33m\u001b[0m\u001b[1;33m\u001b[0m\u001b[0m\n\u001b[0;32m    632\u001b[0m         \u001b[0mparams\u001b[0m\u001b[1;33m[\u001b[0m\u001b[1;34m'id'\u001b[0m\u001b[1;33m]\u001b[0m \u001b[1;33m=\u001b[0m \u001b[0mself\u001b[0m\u001b[1;33m.\u001b[0m\u001b[0m_id\u001b[0m\u001b[1;33m\u001b[0m\u001b[1;33m\u001b[0m\u001b[0m\n\u001b[1;32m--> 633\u001b[1;33m         \u001b[1;32mreturn\u001b[0m \u001b[0mself\u001b[0m\u001b[1;33m.\u001b[0m\u001b[0m_parent\u001b[0m\u001b[1;33m.\u001b[0m\u001b[0mexecute\u001b[0m\u001b[1;33m(\u001b[0m\u001b[0mcommand\u001b[0m\u001b[1;33m,\u001b[0m \u001b[0mparams\u001b[0m\u001b[1;33m)\u001b[0m\u001b[1;33m\u001b[0m\u001b[1;33m\u001b[0m\u001b[0m\n\u001b[0m\u001b[0;32m    634\u001b[0m \u001b[1;33m\u001b[0m\u001b[0m\n\u001b[0;32m    635\u001b[0m     \u001b[1;32mdef\u001b[0m \u001b[0mfind_element\u001b[0m\u001b[1;33m(\u001b[0m\u001b[0mself\u001b[0m\u001b[1;33m,\u001b[0m \u001b[0mby\u001b[0m\u001b[1;33m=\u001b[0m\u001b[0mBy\u001b[0m\u001b[1;33m.\u001b[0m\u001b[0mID\u001b[0m\u001b[1;33m,\u001b[0m \u001b[0mvalue\u001b[0m\u001b[1;33m=\u001b[0m\u001b[1;32mNone\u001b[0m\u001b[1;33m)\u001b[0m\u001b[1;33m:\u001b[0m\u001b[1;33m\u001b[0m\u001b[1;33m\u001b[0m\u001b[0m\n",
      "\u001b[1;32m~\\anaconda3\\envs\\badminton_bot\\lib\\site-packages\\selenium\\webdriver\\remote\\webdriver.py\u001b[0m in \u001b[0;36mexecute\u001b[1;34m(self, driver_command, params)\u001b[0m\n\u001b[0;32m    319\u001b[0m         \u001b[0mresponse\u001b[0m \u001b[1;33m=\u001b[0m \u001b[0mself\u001b[0m\u001b[1;33m.\u001b[0m\u001b[0mcommand_executor\u001b[0m\u001b[1;33m.\u001b[0m\u001b[0mexecute\u001b[0m\u001b[1;33m(\u001b[0m\u001b[0mdriver_command\u001b[0m\u001b[1;33m,\u001b[0m \u001b[0mparams\u001b[0m\u001b[1;33m)\u001b[0m\u001b[1;33m\u001b[0m\u001b[1;33m\u001b[0m\u001b[0m\n\u001b[0;32m    320\u001b[0m         \u001b[1;32mif\u001b[0m \u001b[0mresponse\u001b[0m\u001b[1;33m:\u001b[0m\u001b[1;33m\u001b[0m\u001b[1;33m\u001b[0m\u001b[0m\n\u001b[1;32m--> 321\u001b[1;33m             \u001b[0mself\u001b[0m\u001b[1;33m.\u001b[0m\u001b[0merror_handler\u001b[0m\u001b[1;33m.\u001b[0m\u001b[0mcheck_response\u001b[0m\u001b[1;33m(\u001b[0m\u001b[0mresponse\u001b[0m\u001b[1;33m)\u001b[0m\u001b[1;33m\u001b[0m\u001b[1;33m\u001b[0m\u001b[0m\n\u001b[0m\u001b[0;32m    322\u001b[0m             response['value'] = self._unwrap_value(\n\u001b[0;32m    323\u001b[0m                 response.get('value', None))\n",
      "\u001b[1;32m~\\anaconda3\\envs\\badminton_bot\\lib\\site-packages\\selenium\\webdriver\\remote\\errorhandler.py\u001b[0m in \u001b[0;36mcheck_response\u001b[1;34m(self, response)\u001b[0m\n\u001b[0;32m    240\u001b[0m                 \u001b[0malert_text\u001b[0m \u001b[1;33m=\u001b[0m \u001b[0mvalue\u001b[0m\u001b[1;33m[\u001b[0m\u001b[1;34m'alert'\u001b[0m\u001b[1;33m]\u001b[0m\u001b[1;33m.\u001b[0m\u001b[0mget\u001b[0m\u001b[1;33m(\u001b[0m\u001b[1;34m'text'\u001b[0m\u001b[1;33m)\u001b[0m\u001b[1;33m\u001b[0m\u001b[1;33m\u001b[0m\u001b[0m\n\u001b[0;32m    241\u001b[0m             \u001b[1;32mraise\u001b[0m \u001b[0mexception_class\u001b[0m\u001b[1;33m(\u001b[0m\u001b[0mmessage\u001b[0m\u001b[1;33m,\u001b[0m \u001b[0mscreen\u001b[0m\u001b[1;33m,\u001b[0m \u001b[0mstacktrace\u001b[0m\u001b[1;33m,\u001b[0m \u001b[0malert_text\u001b[0m\u001b[1;33m)\u001b[0m\u001b[1;33m\u001b[0m\u001b[1;33m\u001b[0m\u001b[0m\n\u001b[1;32m--> 242\u001b[1;33m         \u001b[1;32mraise\u001b[0m \u001b[0mexception_class\u001b[0m\u001b[1;33m(\u001b[0m\u001b[0mmessage\u001b[0m\u001b[1;33m,\u001b[0m \u001b[0mscreen\u001b[0m\u001b[1;33m,\u001b[0m \u001b[0mstacktrace\u001b[0m\u001b[1;33m)\u001b[0m\u001b[1;33m\u001b[0m\u001b[1;33m\u001b[0m\u001b[0m\n\u001b[0m\u001b[0;32m    243\u001b[0m \u001b[1;33m\u001b[0m\u001b[0m\n\u001b[0;32m    244\u001b[0m     \u001b[1;32mdef\u001b[0m \u001b[0m_value_or_default\u001b[0m\u001b[1;33m(\u001b[0m\u001b[0mself\u001b[0m\u001b[1;33m,\u001b[0m \u001b[0mobj\u001b[0m\u001b[1;33m,\u001b[0m \u001b[0mkey\u001b[0m\u001b[1;33m,\u001b[0m \u001b[0mdefault\u001b[0m\u001b[1;33m)\u001b[0m\u001b[1;33m:\u001b[0m\u001b[1;33m\u001b[0m\u001b[1;33m\u001b[0m\u001b[0m\n",
      "\u001b[1;31mElementNotInteractableException\u001b[0m: Message: element not interactable\n  (Session info: chrome=106.0.5249.119)\n"
     ]
    }
   ],
   "source": [
    "\n",
    "\n",
    "bookNowButton = driver.find_element_by_xpath(\"//a[@data-test-id='account-bookings-dropins']\")\n",
    "#bookNowButton = driver.find_element(By.XPATH, \"//a[@data-test-id='account-bookings-dropins']\")\n",
    "bookNowButton.click()"
   ]
  },
  {
   "cell_type": "markdown",
   "id": "cf111a9e",
   "metadata": {},
   "source": [
    "However I was getting an error, saying that the button was not interactible and clickable. \n",
    "\n",
    "That was strange since I could see that the button was visible and I can click on it.\n",
    "\n",
    "Then, just to confirm I wasn't going insane, I used the browser to copy the full XPATH for the node.\n"
   ]
  },
  {
   "cell_type": "code",
   "execution_count": null,
   "id": "d9f30e0b",
   "metadata": {},
   "outputs": [],
   "source": [
    "bookNowButton = driver.find_element_by_xpath(\"/html/body/div/div[2]/div/landing-page-base/div/div/div[2]/landing-page-bookings-base/div/div[2]/account-booking-actions/div/div/div/a\")\n",
    "bookNowButton.click()"
   ]
  },
  {
   "cell_type": "markdown",
   "id": "66157ae1",
   "metadata": {},
   "source": [
    "I don't like doing this hack, but it does work. But why?\n",
    "\n",
    "It turns out that there is more than one link in the page for \"Book Now\". One is visible, and the other one is invisible. This is because the website is responsive. Who-ever\n",
    "developed this website decided that they needed two separate links for booking the courts. One for Mobile and the other for desktop screens.\n",
    "\n",
    "Knowing that there are more than one button for \"Book now\" in the page, but only one is visible, we can do a check to see if the HTML element is visible before clicking on it:"
   ]
  },
  {
   "cell_type": "code",
   "execution_count": null,
   "id": "df60cdef",
   "metadata": {},
   "outputs": [],
   "source": [
    "bookNowButtons = driver.find_elements_by_xpath(\"//a[@data-test-id='account-bookings-dropins']\")\n",
    "#/html/body/div/div[2]/div/landing-page-base/div/div/div[2]/landing-page-bookings-base/div/div[2]/account-booking-actions/div/div/div/a\n",
    "type(bookNowButtons)\n",
    "\n",
    "for bookNowButton in bookNowButtons:\n",
    "    if bookNowButton.is_displayed():\n",
    "        bookNowButton.click()\n"
   ]
  },
  {
   "cell_type": "markdown",
   "id": "c1304408",
   "metadata": {},
   "source": [
    "It works! But, are we not complicating things?\n",
    "The <a> tag we are clicking on, points to a URL, which we can call directly after login, so perhaps we should just do this:"
   ]
  },
  {
   "cell_type": "code",
   "execution_count": 11,
   "id": "f30d7a7e",
   "metadata": {},
   "outputs": [],
   "source": [
    "driver.get(\"https://legacyleisure.legendonlineservices.co.uk/erith/bookingscentre/index\")"
   ]
  },
  {
   "cell_type": "markdown",
   "id": "7ca594f5",
   "metadata": {},
   "source": [
    "## Remove Pre-selection of club - as we want to be searching for more than one club - inside a method name"
   ]
  },
  {
   "cell_type": "code",
   "execution_count": 12,
   "id": "bce3e3cf",
   "metadata": {},
   "outputs": [],
   "source": [
    "driver.find_element_by_class_name(\"select2-selection__choice__remove\").click()"
   ]
  },
  {
   "cell_type": "markdown",
   "id": "bedcb0db",
   "metadata": {},
   "source": [
    "## Select Search field if the droddown not already expanded"
   ]
  },
  {
   "cell_type": "code",
   "execution_count": 13,
   "id": "41562384",
   "metadata": {},
   "outputs": [
    {
     "name": "stdout",
     "output_type": "stream",
     "text": [
      "True\n"
     ]
    }
   ],
   "source": [
    "\n",
    "select_site = driver.find_element_by_xpath(\"//span[contains(@class, 'select2-selection')]\")\n",
    "is_expanded = select_site.get_attribute(\"aria-expanded\") == 'true'\n",
    "print(is_expanded)\n",
    "if not is_expanded:\n",
    "    print(\"About to open dropdown\")\n",
    "    wd.find_element_by_xpath(\"//span[@class='selection']\").click()"
   ]
  },
  {
   "cell_type": "markdown",
   "id": "df26f6dd",
   "metadata": {},
   "source": [
    "We select the club where we want to do our search. More than one way of doing it. We could do a search query, or \n",
    "like I show below, I found the <option> element inside the <select> dropdown that I wanted and I clicked on it:"
   ]
  },
  {
   "cell_type": "code",
   "execution_count": 14,
   "id": "c22c740e",
   "metadata": {},
   "outputs": [],
   "source": [
    "driver.find_element_by_xpath('//option[text()=\"Sidcup\"]').click()"
   ]
  },
  {
   "cell_type": "markdown",
   "id": "94f47c01",
   "metadata": {},
   "source": [
    "Oh, but this doesn't seem to work the same as the UI. So I must find another way to select the club, so that the remainder of the Javascript works properly."
   ]
  },
  {
   "cell_type": "code",
   "execution_count": 19,
   "id": "6d1bae4e",
   "metadata": {},
   "outputs": [],
   "source": [
    "driver.find_element_by_xpath(\"//li[text()='Sidcup']\").click()"
   ]
  },
  {
   "cell_type": "markdown",
   "id": "a76c3e20",
   "metadata": {},
   "source": [
    "That seems to work. Now I can select the category."
   ]
  },
  {
   "cell_type": "markdown",
   "id": "ed21bc7b",
   "metadata": {},
   "source": [
    "## Selecting the Category\n",
    "\n",
    "We want to look for availability in the Sports Hall\n"
   ]
  },
  {
   "cell_type": "code",
   "execution_count": 20,
   "id": "961be440",
   "metadata": {},
   "outputs": [],
   "source": [
    "driver.find_element_by_xpath('//input[@type=\"radio\" and @data-test-id=\"bookings-category-categories-racket-sports\"]').click()"
   ]
  },
  {
   "cell_type": "markdown",
   "id": "90f909b7",
   "metadata": {
    "tags": []
   },
   "source": [
    "## Selecting the activities\n",
    "\n",
    "We want to book in this case Badminton 60 minutes"
   ]
  },
  {
   "cell_type": "code",
   "execution_count": 21,
   "id": "7b6e59f5",
   "metadata": {},
   "outputs": [],
   "source": [
    "driver.find_element_by_xpath('//input[@type=\"checkbox\" and @data-test-id=\"bookings-activities-activity-badminton-60-mins\"]').click()"
   ]
  },
  {
   "cell_type": "markdown",
   "id": "78511845",
   "metadata": {},
   "source": [
    "We could select more than one activity. But in this case we only care about badminton!"
   ]
  },
  {
   "cell_type": "markdown",
   "id": "4ed51f66",
   "metadata": {},
   "source": [
    "## Viewing the Timetable"
   ]
  },
  {
   "cell_type": "code",
   "execution_count": 22,
   "id": "4b7a8f62",
   "metadata": {},
   "outputs": [],
   "source": [
    "driver.find_element_by_xpath('//button[@data-test-id=\"bookings-viewtimetable\"]').click()"
   ]
  },
  {
   "cell_type": "markdown",
   "id": "2956a731",
   "metadata": {},
   "source": [
    "# Displaying the Results\n",
    "\n",
    "Now the real scraping action begins. We want to store the results in a Panda Dataframe, as this will make it much more easy to make complicated queries on our data.\n",
    "\n",
    "In this website in particular, it shows us the slots available starting, from today up to 5 days in the future. What we want to do is to collect this data and add it to a\n",
    "table for our own use.\n"
   ]
  },
  {
   "cell_type": "markdown",
   "id": "7871294e",
   "metadata": {},
   "source": [
    "## Let's create an empty Panda Data Frame with the columns that we want"
   ]
  },
  {
   "cell_type": "code",
   "execution_count": 23,
   "id": "fd734235",
   "metadata": {},
   "outputs": [
    {
     "data": {
      "text/html": [
       "<div>\n",
       "<style scoped>\n",
       "    .dataframe tbody tr th:only-of-type {\n",
       "        vertical-align: middle;\n",
       "    }\n",
       "\n",
       "    .dataframe tbody tr th {\n",
       "        vertical-align: top;\n",
       "    }\n",
       "\n",
       "    .dataframe thead th {\n",
       "        text-align: right;\n",
       "    }\n",
       "</style>\n",
       "<table border=\"1\" class=\"dataframe\">\n",
       "  <thead>\n",
       "    <tr style=\"text-align: right;\">\n",
       "      <th></th>\n",
       "      <th>Location</th>\n",
       "      <th>Date</th>\n",
       "      <th>Time</th>\n",
       "      <th>Availability</th>\n",
       "    </tr>\n",
       "  </thead>\n",
       "  <tbody>\n",
       "  </tbody>\n",
       "</table>\n",
       "</div>"
      ],
      "text/plain": [
       "Empty DataFrame\n",
       "Columns: [Location, Date, Time, Availability]\n",
       "Index: []"
      ]
     },
     "execution_count": 23,
     "metadata": {},
     "output_type": "execute_result"
    }
   ],
   "source": [
    "import pandas as pd\n",
    "\n",
    "df = pd.DataFrame([], columns=[\"Location\", \"Date\", \"Time\", \"Availability\"])\n",
    "df"
   ]
  },
  {
   "cell_type": "markdown",
   "id": "597cc09e",
   "metadata": {},
   "source": [
    "## Now that we know roughly what information we want, let's parse the HTML and fill in our table"
   ]
  },
  {
   "cell_type": "code",
   "execution_count": 24,
   "id": "29b69ae2",
   "metadata": {},
   "outputs": [],
   "source": [
    "soup = BeautifulSoup(driver.page_source)"
   ]
  },
  {
   "cell_type": "code",
   "execution_count": 25,
   "id": "6bf2d701",
   "metadata": {
    "tags": []
   },
   "outputs": [
    {
     "data": {
      "text/plain": [
       "[]"
      ]
     },
     "execution_count": 25,
     "metadata": {},
     "output_type": "execute_result"
    }
   ],
   "source": [
    "soup.findAll(\"div\", {\"class\": \"activityBox\"})"
   ]
  },
  {
   "cell_type": "code",
   "execution_count": 26,
   "id": "b5adb1f7",
   "metadata": {},
   "outputs": [
    {
     "name": "stdout",
     "output_type": "stream",
     "text": [
      "16 Oct 2022\n"
     ]
    }
   ],
   "source": [
    "rows = soup.findAll(\"div\", {\"class\": \"activityBox\"})\n",
    "for row in rows:\n",
    "    print(\"row\")\n",
    "    timeOfDay= row.find(\"div\", {\"class\": \"timeOfDay\"})\n",
    "    available = row.find(\"div\", {\"class\": \"spaceDetailsText\"})\n",
    "    print(timeOfDay.text)\n",
    "    print(available.text)\n",
    "    \n",
    "# find what the date is using the date picker\n",
    "\n",
    "datePicker = driver.find_element_by_xpath(\"//span[@class='Zebra_DatePicker_Icon_Wrapper']/input\")\n",
    "# date\n",
    "print(datePicker.get_attribute('value'))\n",
    "#soup.find(\"span\", {\"class\", \"Zebra_DatePicker_Icon_Wrapper\"})\n"
   ]
  },
  {
   "cell_type": "markdown",
   "id": "f2e11916",
   "metadata": {},
   "source": [
    "## Let's try to put this into a neat Panda DataFrame"
   ]
  },
  {
   "cell_type": "code",
   "execution_count": 27,
   "id": "93dda538",
   "metadata": {},
   "outputs": [],
   "source": [
    "import pandas as pd\n",
    "\n",
    "datePicker = driver.find_element_by_xpath(\"//span[@class='Zebra_DatePicker_Icon_Wrapper']/input\")\n",
    "current_date = datePicker.get_attribute('value')\n",
    "\n",
    "activity_rows = soup.findAll(\"div\", {\"class\": \"activityBox\"})\n",
    "df_rows = []\n",
    "for activity_row in activity_rows:\n",
    "    location = activity_row.find(\"div\", {\"class\": \"activityDetailsMajor\"})\n",
    "    timeOfDay= activity_row.find(\"div\", {\"class\": \"timeOfDay\"})\n",
    "    available = activity_row.find(\"div\", {\"class\": \"spaceDetailsText\"})\n",
    "    df_rows.append([current_date,location.text, timeOfDay.text, available.text])\n",
    "    \n",
    "df = pd.DataFrame(df_rows, columns=[\"Date\", \"Location\", \"Time\", \"Availability\"])\n"
   ]
  },
  {
   "cell_type": "code",
   "execution_count": 28,
   "id": "75028de8",
   "metadata": {},
   "outputs": [
    {
     "data": {
      "text/html": [
       "<div>\n",
       "<style scoped>\n",
       "    .dataframe tbody tr th:only-of-type {\n",
       "        vertical-align: middle;\n",
       "    }\n",
       "\n",
       "    .dataframe tbody tr th {\n",
       "        vertical-align: top;\n",
       "    }\n",
       "\n",
       "    .dataframe thead th {\n",
       "        text-align: right;\n",
       "    }\n",
       "</style>\n",
       "<table border=\"1\" class=\"dataframe\">\n",
       "  <thead>\n",
       "    <tr style=\"text-align: right;\">\n",
       "      <th></th>\n",
       "      <th>Date</th>\n",
       "      <th>Location</th>\n",
       "      <th>Time</th>\n",
       "      <th>Availability</th>\n",
       "    </tr>\n",
       "  </thead>\n",
       "  <tbody>\n",
       "  </tbody>\n",
       "</table>\n",
       "</div>"
      ],
      "text/plain": [
       "Empty DataFrame\n",
       "Columns: [Date, Location, Time, Availability]\n",
       "Index: []"
      ]
     },
     "execution_count": 28,
     "metadata": {},
     "output_type": "execute_result"
    }
   ],
   "source": [
    "df"
   ]
  },
  {
   "cell_type": "markdown",
   "id": "81c22760",
   "metadata": {},
   "source": [
    "## Before we proceed further we should start creating functions, so we don't have to copy and past the same code multiple times\n"
   ]
  },
  {
   "cell_type": "code",
   "execution_count": 29,
   "id": "0038b4e3",
   "metadata": {},
   "outputs": [],
   "source": [
    "from selenium.webdriver.common.keys import Keys\n",
    "import datetime\n",
    "from datetime import date\n",
    "import time\n",
    "\n",
    "def getAvailabilityForDate(queryDate):\n",
    "    queryDateStr = queryDate.strftime(\"%d %b %Y\")\n",
    "    # find date picker\n",
    "    datePicker = driver.find_element_by_xpath(\"//span[@class='Zebra_DatePicker_Icon_Wrapper']/input\")\n",
    "    datePicker.clear()\n",
    "    # set date\n",
    "    datePicker.send_keys(queryDateStr)\n",
    "    datePicker.send_keys(Keys.TAB);\n",
    "    # we need to wait because otherwise we pick an empty list of results\n",
    "    # there are different techniques to ensure that we have a fresh list of results\n",
    "    # for instance we could wait for a cer\n",
    "    current_date = datePicker.get_attribute('value')\n",
    "    time.sleep(3)\n",
    "    soup = BeautifulSoup(driver.page_source)\n",
    "    activity_rows = soup.findAll(\"div\", {\"class\": \"activityBox\"})\n",
    "    df_rows = []\n",
    "    for activity_row in activity_rows:\n",
    "        location = activity_row.find(\"div\", {\"class\": \"activityDetailsMajor\"})\n",
    "        timeOfDay= activity_row.find(\"div\", {\"class\": \"timeOfDay\"})\n",
    "        available = activity_row.find(\"div\", {\"class\": \"spaceDetailsText\"})\n",
    "        df_rows.append([current_date,location.text, timeOfDay.text, available.text])\n",
    "\n",
    "    df = pd.DataFrame(df_rows, columns=[\"Date\", \"Location\", \"Time\", \"Availability\"])\n",
    "\n",
    "    return df\n"
   ]
  },
  {
   "cell_type": "code",
   "execution_count": 30,
   "id": "1680b59d",
   "metadata": {},
   "outputs": [
    {
     "data": {
      "text/html": [
       "<div>\n",
       "<style scoped>\n",
       "    .dataframe tbody tr th:only-of-type {\n",
       "        vertical-align: middle;\n",
       "    }\n",
       "\n",
       "    .dataframe tbody tr th {\n",
       "        vertical-align: top;\n",
       "    }\n",
       "\n",
       "    .dataframe thead th {\n",
       "        text-align: right;\n",
       "    }\n",
       "</style>\n",
       "<table border=\"1\" class=\"dataframe\">\n",
       "  <thead>\n",
       "    <tr style=\"text-align: right;\">\n",
       "      <th></th>\n",
       "      <th>Date</th>\n",
       "      <th>Location</th>\n",
       "      <th>Time</th>\n",
       "      <th>Availability</th>\n",
       "    </tr>\n",
       "  </thead>\n",
       "  <tbody>\n",
       "  </tbody>\n",
       "</table>\n",
       "</div>"
      ],
      "text/plain": [
       "Empty DataFrame\n",
       "Columns: [Date, Location, Time, Availability]\n",
       "Index: []"
      ]
     },
     "execution_count": 30,
     "metadata": {},
     "output_type": "execute_result"
    }
   ],
   "source": [
    "getAvailabilityForDate(date.today())"
   ]
  },
  {
   "cell_type": "markdown",
   "id": "b81a8d90",
   "metadata": {},
   "source": [
    "## The date picker accepts dates in the format of DAY MONTH YEAR. Let's find a way to construct this automatically based on the current date."
   ]
  },
  {
   "cell_type": "code",
   "execution_count": 31,
   "id": "59c30e38",
   "metadata": {},
   "outputs": [],
   "source": [
    "import datetime\n",
    "from datetime import date"
   ]
  },
  {
   "cell_type": "code",
   "execution_count": 32,
   "id": "67bbfc04",
   "metadata": {},
   "outputs": [
    {
     "data": {
      "text/plain": [
       "datetime.date(2022, 10, 16)"
      ]
     },
     "execution_count": 32,
     "metadata": {},
     "output_type": "execute_result"
    }
   ],
   "source": [
    "date.today()"
   ]
  },
  {
   "cell_type": "code",
   "execution_count": 33,
   "id": "a3b379eb",
   "metadata": {},
   "outputs": [
    {
     "data": {
      "text/plain": [
       "'16 Oct 2022'"
      ]
     },
     "execution_count": 33,
     "metadata": {},
     "output_type": "execute_result"
    }
   ],
   "source": [
    "date.today().strftime(\"%d %b %Y\")"
   ]
  },
  {
   "cell_type": "code",
   "execution_count": 34,
   "id": "bfd6a763",
   "metadata": {},
   "outputs": [],
   "source": [
    "availability = getAvailabilityForDate(date.today() + datetime.timedelta(days=5))"
   ]
  },
  {
   "cell_type": "markdown",
   "id": "97eccf67",
   "metadata": {},
   "source": [
    "#  Now Let's Filter based on Availability\n",
    "\n",
    "An hour is available if 1 or more slots are available. Or put in another way, if the availability is not set to Full."
   ]
  },
  {
   "cell_type": "code",
   "execution_count": 35,
   "id": "5471a42d",
   "metadata": {},
   "outputs": [
    {
     "data": {
      "text/html": [
       "<div>\n",
       "<style scoped>\n",
       "    .dataframe tbody tr th:only-of-type {\n",
       "        vertical-align: middle;\n",
       "    }\n",
       "\n",
       "    .dataframe tbody tr th {\n",
       "        vertical-align: top;\n",
       "    }\n",
       "\n",
       "    .dataframe thead th {\n",
       "        text-align: right;\n",
       "    }\n",
       "</style>\n",
       "<table border=\"1\" class=\"dataframe\">\n",
       "  <thead>\n",
       "    <tr style=\"text-align: right;\">\n",
       "      <th></th>\n",
       "      <th>Date</th>\n",
       "      <th>Location</th>\n",
       "      <th>Time</th>\n",
       "      <th>Availability</th>\n",
       "    </tr>\n",
       "  </thead>\n",
       "  <tbody>\n",
       "    <tr>\n",
       "      <th>0</th>\n",
       "      <td>21 Oct 2022</td>\n",
       "      <td>Sidcup</td>\n",
       "      <td>06:00</td>\n",
       "      <td>Full</td>\n",
       "    </tr>\n",
       "    <tr>\n",
       "      <th>1</th>\n",
       "      <td>21 Oct 2022</td>\n",
       "      <td>Sidcup</td>\n",
       "      <td>07:00</td>\n",
       "      <td>4 Slots</td>\n",
       "    </tr>\n",
       "    <tr>\n",
       "      <th>2</th>\n",
       "      <td>21 Oct 2022</td>\n",
       "      <td>Sidcup</td>\n",
       "      <td>08:00</td>\n",
       "      <td>4 Slots</td>\n",
       "    </tr>\n",
       "    <tr>\n",
       "      <th>3</th>\n",
       "      <td>21 Oct 2022</td>\n",
       "      <td>Sidcup</td>\n",
       "      <td>09:00</td>\n",
       "      <td>Full</td>\n",
       "    </tr>\n",
       "    <tr>\n",
       "      <th>4</th>\n",
       "      <td>21 Oct 2022</td>\n",
       "      <td>Sidcup</td>\n",
       "      <td>10:00</td>\n",
       "      <td>Full</td>\n",
       "    </tr>\n",
       "    <tr>\n",
       "      <th>5</th>\n",
       "      <td>21 Oct 2022</td>\n",
       "      <td>Sidcup</td>\n",
       "      <td>11:00</td>\n",
       "      <td>Full</td>\n",
       "    </tr>\n",
       "    <tr>\n",
       "      <th>6</th>\n",
       "      <td>21 Oct 2022</td>\n",
       "      <td>Sidcup</td>\n",
       "      <td>12:00</td>\n",
       "      <td>Full</td>\n",
       "    </tr>\n",
       "    <tr>\n",
       "      <th>7</th>\n",
       "      <td>21 Oct 2022</td>\n",
       "      <td>Sidcup</td>\n",
       "      <td>13:00</td>\n",
       "      <td>Full</td>\n",
       "    </tr>\n",
       "    <tr>\n",
       "      <th>8</th>\n",
       "      <td>21 Oct 2022</td>\n",
       "      <td>Sidcup</td>\n",
       "      <td>14:00</td>\n",
       "      <td>Full</td>\n",
       "    </tr>\n",
       "    <tr>\n",
       "      <th>9</th>\n",
       "      <td>21 Oct 2022</td>\n",
       "      <td>Sidcup</td>\n",
       "      <td>15:00</td>\n",
       "      <td>Full</td>\n",
       "    </tr>\n",
       "    <tr>\n",
       "      <th>10</th>\n",
       "      <td>21 Oct 2022</td>\n",
       "      <td>Sidcup</td>\n",
       "      <td>16:00</td>\n",
       "      <td>Full</td>\n",
       "    </tr>\n",
       "    <tr>\n",
       "      <th>11</th>\n",
       "      <td>21 Oct 2022</td>\n",
       "      <td>Sidcup</td>\n",
       "      <td>17:00</td>\n",
       "      <td>4 Slots</td>\n",
       "    </tr>\n",
       "    <tr>\n",
       "      <th>12</th>\n",
       "      <td>21 Oct 2022</td>\n",
       "      <td>Sidcup</td>\n",
       "      <td>18:00</td>\n",
       "      <td>4 Slots</td>\n",
       "    </tr>\n",
       "    <tr>\n",
       "      <th>13</th>\n",
       "      <td>21 Oct 2022</td>\n",
       "      <td>Sidcup</td>\n",
       "      <td>19:00</td>\n",
       "      <td>3 Slots</td>\n",
       "    </tr>\n",
       "    <tr>\n",
       "      <th>14</th>\n",
       "      <td>21 Oct 2022</td>\n",
       "      <td>Sidcup</td>\n",
       "      <td>20:00</td>\n",
       "      <td>2 Slots</td>\n",
       "    </tr>\n",
       "    <tr>\n",
       "      <th>15</th>\n",
       "      <td>21 Oct 2022</td>\n",
       "      <td>Sidcup</td>\n",
       "      <td>21:00</td>\n",
       "      <td>3 Slots</td>\n",
       "    </tr>\n",
       "  </tbody>\n",
       "</table>\n",
       "</div>"
      ],
      "text/plain": [
       "           Date Location   Time Availability\n",
       "0   21 Oct 2022   Sidcup  06:00         Full\n",
       "1   21 Oct 2022   Sidcup  07:00      4 Slots\n",
       "2   21 Oct 2022   Sidcup  08:00      4 Slots\n",
       "3   21 Oct 2022   Sidcup  09:00         Full\n",
       "4   21 Oct 2022   Sidcup  10:00         Full\n",
       "5   21 Oct 2022   Sidcup  11:00         Full\n",
       "6   21 Oct 2022   Sidcup  12:00         Full\n",
       "7   21 Oct 2022   Sidcup  13:00         Full\n",
       "8   21 Oct 2022   Sidcup  14:00         Full\n",
       "9   21 Oct 2022   Sidcup  15:00         Full\n",
       "10  21 Oct 2022   Sidcup  16:00         Full\n",
       "11  21 Oct 2022   Sidcup  17:00      4 Slots\n",
       "12  21 Oct 2022   Sidcup  18:00      4 Slots\n",
       "13  21 Oct 2022   Sidcup  19:00      3 Slots\n",
       "14  21 Oct 2022   Sidcup  20:00      2 Slots\n",
       "15  21 Oct 2022   Sidcup  21:00      3 Slots"
      ]
     },
     "execution_count": 35,
     "metadata": {},
     "output_type": "execute_result"
    }
   ],
   "source": [
    "availability"
   ]
  },
  {
   "cell_type": "code",
   "execution_count": 36,
   "id": "9f7b9bab",
   "metadata": {},
   "outputs": [
    {
     "data": {
      "text/html": [
       "<div>\n",
       "<style scoped>\n",
       "    .dataframe tbody tr th:only-of-type {\n",
       "        vertical-align: middle;\n",
       "    }\n",
       "\n",
       "    .dataframe tbody tr th {\n",
       "        vertical-align: top;\n",
       "    }\n",
       "\n",
       "    .dataframe thead th {\n",
       "        text-align: right;\n",
       "    }\n",
       "</style>\n",
       "<table border=\"1\" class=\"dataframe\">\n",
       "  <thead>\n",
       "    <tr style=\"text-align: right;\">\n",
       "      <th></th>\n",
       "      <th>Date</th>\n",
       "      <th>Location</th>\n",
       "      <th>Time</th>\n",
       "      <th>Availability</th>\n",
       "    </tr>\n",
       "  </thead>\n",
       "  <tbody>\n",
       "    <tr>\n",
       "      <th>1</th>\n",
       "      <td>21 Oct 2022</td>\n",
       "      <td>Sidcup</td>\n",
       "      <td>07:00</td>\n",
       "      <td>4 Slots</td>\n",
       "    </tr>\n",
       "    <tr>\n",
       "      <th>2</th>\n",
       "      <td>21 Oct 2022</td>\n",
       "      <td>Sidcup</td>\n",
       "      <td>08:00</td>\n",
       "      <td>4 Slots</td>\n",
       "    </tr>\n",
       "    <tr>\n",
       "      <th>11</th>\n",
       "      <td>21 Oct 2022</td>\n",
       "      <td>Sidcup</td>\n",
       "      <td>17:00</td>\n",
       "      <td>4 Slots</td>\n",
       "    </tr>\n",
       "    <tr>\n",
       "      <th>12</th>\n",
       "      <td>21 Oct 2022</td>\n",
       "      <td>Sidcup</td>\n",
       "      <td>18:00</td>\n",
       "      <td>4 Slots</td>\n",
       "    </tr>\n",
       "    <tr>\n",
       "      <th>13</th>\n",
       "      <td>21 Oct 2022</td>\n",
       "      <td>Sidcup</td>\n",
       "      <td>19:00</td>\n",
       "      <td>3 Slots</td>\n",
       "    </tr>\n",
       "    <tr>\n",
       "      <th>14</th>\n",
       "      <td>21 Oct 2022</td>\n",
       "      <td>Sidcup</td>\n",
       "      <td>20:00</td>\n",
       "      <td>2 Slots</td>\n",
       "    </tr>\n",
       "    <tr>\n",
       "      <th>15</th>\n",
       "      <td>21 Oct 2022</td>\n",
       "      <td>Sidcup</td>\n",
       "      <td>21:00</td>\n",
       "      <td>3 Slots</td>\n",
       "    </tr>\n",
       "  </tbody>\n",
       "</table>\n",
       "</div>"
      ],
      "text/plain": [
       "           Date Location   Time Availability\n",
       "1   21 Oct 2022   Sidcup  07:00      4 Slots\n",
       "2   21 Oct 2022   Sidcup  08:00      4 Slots\n",
       "11  21 Oct 2022   Sidcup  17:00      4 Slots\n",
       "12  21 Oct 2022   Sidcup  18:00      4 Slots\n",
       "13  21 Oct 2022   Sidcup  19:00      3 Slots\n",
       "14  21 Oct 2022   Sidcup  20:00      2 Slots\n",
       "15  21 Oct 2022   Sidcup  21:00      3 Slots"
      ]
     },
     "execution_count": 36,
     "metadata": {},
     "output_type": "execute_result"
    }
   ],
   "source": [
    "availability[availability[\"Availability\"] != \"Full\"]"
   ]
  },
  {
   "cell_type": "markdown",
   "id": "ce71a582",
   "metadata": {},
   "source": [
    "# Converting a column to a another data type with Pandas\n",
    "First we replace \"N Slots\" with N using a regular expression"
   ]
  },
  {
   "cell_type": "code",
   "execution_count": 37,
   "id": "2d9811df",
   "metadata": {},
   "outputs": [
    {
     "name": "stderr",
     "output_type": "stream",
     "text": [
      "C:\\Users\\armin\\AppData\\Local\\Temp/ipykernel_36092/705897905.py:2: FutureWarning: The default value of regex will change from True to False in a future version.\n",
      "  availability[\"Availability\"].str.replace(r\"(\\d+) Slots\", lambda m: m.group(1))\n"
     ]
    }
   ],
   "source": [
    "# complicated version with regex\n",
    "availability[\"Availability\"].str.replace(r\"(\\d+) Slots\", lambda m: m.group(1))\n",
    "# simple version\n",
    "availability[\"Availability\"] = availability[\"Availability\"].str.replace(\" Slots\", \"\").replace(\"Full\", \"0\")"
   ]
  },
  {
   "cell_type": "code",
   "execution_count": 38,
   "id": "240f9bc5",
   "metadata": {},
   "outputs": [
    {
     "data": {
      "text/html": [
       "<div>\n",
       "<style scoped>\n",
       "    .dataframe tbody tr th:only-of-type {\n",
       "        vertical-align: middle;\n",
       "    }\n",
       "\n",
       "    .dataframe tbody tr th {\n",
       "        vertical-align: top;\n",
       "    }\n",
       "\n",
       "    .dataframe thead th {\n",
       "        text-align: right;\n",
       "    }\n",
       "</style>\n",
       "<table border=\"1\" class=\"dataframe\">\n",
       "  <thead>\n",
       "    <tr style=\"text-align: right;\">\n",
       "      <th></th>\n",
       "      <th>Date</th>\n",
       "      <th>Location</th>\n",
       "      <th>Time</th>\n",
       "      <th>Availability</th>\n",
       "    </tr>\n",
       "  </thead>\n",
       "  <tbody>\n",
       "    <tr>\n",
       "      <th>0</th>\n",
       "      <td>21 Oct 2022</td>\n",
       "      <td>Sidcup</td>\n",
       "      <td>06:00</td>\n",
       "      <td>0</td>\n",
       "    </tr>\n",
       "    <tr>\n",
       "      <th>1</th>\n",
       "      <td>21 Oct 2022</td>\n",
       "      <td>Sidcup</td>\n",
       "      <td>07:00</td>\n",
       "      <td>4</td>\n",
       "    </tr>\n",
       "    <tr>\n",
       "      <th>2</th>\n",
       "      <td>21 Oct 2022</td>\n",
       "      <td>Sidcup</td>\n",
       "      <td>08:00</td>\n",
       "      <td>4</td>\n",
       "    </tr>\n",
       "    <tr>\n",
       "      <th>3</th>\n",
       "      <td>21 Oct 2022</td>\n",
       "      <td>Sidcup</td>\n",
       "      <td>09:00</td>\n",
       "      <td>0</td>\n",
       "    </tr>\n",
       "    <tr>\n",
       "      <th>4</th>\n",
       "      <td>21 Oct 2022</td>\n",
       "      <td>Sidcup</td>\n",
       "      <td>10:00</td>\n",
       "      <td>0</td>\n",
       "    </tr>\n",
       "    <tr>\n",
       "      <th>5</th>\n",
       "      <td>21 Oct 2022</td>\n",
       "      <td>Sidcup</td>\n",
       "      <td>11:00</td>\n",
       "      <td>0</td>\n",
       "    </tr>\n",
       "    <tr>\n",
       "      <th>6</th>\n",
       "      <td>21 Oct 2022</td>\n",
       "      <td>Sidcup</td>\n",
       "      <td>12:00</td>\n",
       "      <td>0</td>\n",
       "    </tr>\n",
       "    <tr>\n",
       "      <th>7</th>\n",
       "      <td>21 Oct 2022</td>\n",
       "      <td>Sidcup</td>\n",
       "      <td>13:00</td>\n",
       "      <td>0</td>\n",
       "    </tr>\n",
       "    <tr>\n",
       "      <th>8</th>\n",
       "      <td>21 Oct 2022</td>\n",
       "      <td>Sidcup</td>\n",
       "      <td>14:00</td>\n",
       "      <td>0</td>\n",
       "    </tr>\n",
       "    <tr>\n",
       "      <th>9</th>\n",
       "      <td>21 Oct 2022</td>\n",
       "      <td>Sidcup</td>\n",
       "      <td>15:00</td>\n",
       "      <td>0</td>\n",
       "    </tr>\n",
       "    <tr>\n",
       "      <th>10</th>\n",
       "      <td>21 Oct 2022</td>\n",
       "      <td>Sidcup</td>\n",
       "      <td>16:00</td>\n",
       "      <td>0</td>\n",
       "    </tr>\n",
       "    <tr>\n",
       "      <th>11</th>\n",
       "      <td>21 Oct 2022</td>\n",
       "      <td>Sidcup</td>\n",
       "      <td>17:00</td>\n",
       "      <td>4</td>\n",
       "    </tr>\n",
       "    <tr>\n",
       "      <th>12</th>\n",
       "      <td>21 Oct 2022</td>\n",
       "      <td>Sidcup</td>\n",
       "      <td>18:00</td>\n",
       "      <td>4</td>\n",
       "    </tr>\n",
       "    <tr>\n",
       "      <th>13</th>\n",
       "      <td>21 Oct 2022</td>\n",
       "      <td>Sidcup</td>\n",
       "      <td>19:00</td>\n",
       "      <td>3</td>\n",
       "    </tr>\n",
       "    <tr>\n",
       "      <th>14</th>\n",
       "      <td>21 Oct 2022</td>\n",
       "      <td>Sidcup</td>\n",
       "      <td>20:00</td>\n",
       "      <td>2</td>\n",
       "    </tr>\n",
       "    <tr>\n",
       "      <th>15</th>\n",
       "      <td>21 Oct 2022</td>\n",
       "      <td>Sidcup</td>\n",
       "      <td>21:00</td>\n",
       "      <td>3</td>\n",
       "    </tr>\n",
       "  </tbody>\n",
       "</table>\n",
       "</div>"
      ],
      "text/plain": [
       "           Date Location   Time Availability\n",
       "0   21 Oct 2022   Sidcup  06:00            0\n",
       "1   21 Oct 2022   Sidcup  07:00            4\n",
       "2   21 Oct 2022   Sidcup  08:00            4\n",
       "3   21 Oct 2022   Sidcup  09:00            0\n",
       "4   21 Oct 2022   Sidcup  10:00            0\n",
       "5   21 Oct 2022   Sidcup  11:00            0\n",
       "6   21 Oct 2022   Sidcup  12:00            0\n",
       "7   21 Oct 2022   Sidcup  13:00            0\n",
       "8   21 Oct 2022   Sidcup  14:00            0\n",
       "9   21 Oct 2022   Sidcup  15:00            0\n",
       "10  21 Oct 2022   Sidcup  16:00            0\n",
       "11  21 Oct 2022   Sidcup  17:00            4\n",
       "12  21 Oct 2022   Sidcup  18:00            4\n",
       "13  21 Oct 2022   Sidcup  19:00            3\n",
       "14  21 Oct 2022   Sidcup  20:00            2\n",
       "15  21 Oct 2022   Sidcup  21:00            3"
      ]
     },
     "execution_count": 38,
     "metadata": {},
     "output_type": "execute_result"
    }
   ],
   "source": [
    "availability"
   ]
  },
  {
   "cell_type": "code",
   "execution_count": 39,
   "id": "bb8a4ed5",
   "metadata": {},
   "outputs": [
    {
     "name": "stdout",
     "output_type": "stream",
     "text": [
      "<class 'pandas.core.frame.DataFrame'>\n",
      "RangeIndex: 16 entries, 0 to 15\n",
      "Data columns (total 4 columns):\n",
      " #   Column        Non-Null Count  Dtype \n",
      "---  ------        --------------  ----- \n",
      " 0   Date          16 non-null     object\n",
      " 1   Location      16 non-null     object\n",
      " 2   Time          16 non-null     object\n",
      " 3   Availability  16 non-null     object\n",
      "dtypes: object(4)\n",
      "memory usage: 640.0+ bytes\n"
     ]
    }
   ],
   "source": [
    "availability.info()"
   ]
  },
  {
   "cell_type": "markdown",
   "id": "da155171",
   "metadata": {},
   "source": [
    "As we can see all the columns have the data type object. This type is used when the types in a column are mixed. If we want to use for instance the time to filter based on a query of the hour of the day, or the availability based on the number of slots, we ought to convert the data types!\n",
    "\n",
    "Let's start with converting our availability to an integer, so we can filter availability based on the number of slots."
   ]
  },
  {
   "cell_type": "code",
   "execution_count": 40,
   "id": "91bb233e",
   "metadata": {},
   "outputs": [],
   "source": [
    "# we can do\n",
    "availability['Availability'].astype(int)\n",
    "\n",
    "# or \n",
    "availability['Availability'] = pd.to_numeric(availability['Availability'])"
   ]
  },
  {
   "cell_type": "code",
   "execution_count": 41,
   "id": "3323e278",
   "metadata": {},
   "outputs": [
    {
     "name": "stdout",
     "output_type": "stream",
     "text": [
      "<class 'pandas.core.frame.DataFrame'>\n",
      "RangeIndex: 16 entries, 0 to 15\n",
      "Data columns (total 4 columns):\n",
      " #   Column        Non-Null Count  Dtype \n",
      "---  ------        --------------  ----- \n",
      " 0   Date          16 non-null     object\n",
      " 1   Location      16 non-null     object\n",
      " 2   Time          16 non-null     object\n",
      " 3   Availability  16 non-null     int64 \n",
      "dtypes: int64(1), object(3)\n",
      "memory usage: 640.0+ bytes\n"
     ]
    }
   ],
   "source": [
    "availability.info()"
   ]
  },
  {
   "cell_type": "markdown",
   "id": "6bfcd69d",
   "metadata": {},
   "source": [
    "Now we can filter based on the number of slots. This could be useful if we were trying to book for a larger group."
   ]
  },
  {
   "cell_type": "code",
   "execution_count": 42,
   "id": "8279336c",
   "metadata": {},
   "outputs": [
    {
     "data": {
      "text/html": [
       "<div>\n",
       "<style scoped>\n",
       "    .dataframe tbody tr th:only-of-type {\n",
       "        vertical-align: middle;\n",
       "    }\n",
       "\n",
       "    .dataframe tbody tr th {\n",
       "        vertical-align: top;\n",
       "    }\n",
       "\n",
       "    .dataframe thead th {\n",
       "        text-align: right;\n",
       "    }\n",
       "</style>\n",
       "<table border=\"1\" class=\"dataframe\">\n",
       "  <thead>\n",
       "    <tr style=\"text-align: right;\">\n",
       "      <th></th>\n",
       "      <th>Date</th>\n",
       "      <th>Location</th>\n",
       "      <th>Time</th>\n",
       "      <th>Availability</th>\n",
       "    </tr>\n",
       "  </thead>\n",
       "  <tbody>\n",
       "    <tr>\n",
       "      <th>1</th>\n",
       "      <td>21 Oct 2022</td>\n",
       "      <td>Sidcup</td>\n",
       "      <td>07:00</td>\n",
       "      <td>4</td>\n",
       "    </tr>\n",
       "    <tr>\n",
       "      <th>2</th>\n",
       "      <td>21 Oct 2022</td>\n",
       "      <td>Sidcup</td>\n",
       "      <td>08:00</td>\n",
       "      <td>4</td>\n",
       "    </tr>\n",
       "    <tr>\n",
       "      <th>11</th>\n",
       "      <td>21 Oct 2022</td>\n",
       "      <td>Sidcup</td>\n",
       "      <td>17:00</td>\n",
       "      <td>4</td>\n",
       "    </tr>\n",
       "    <tr>\n",
       "      <th>12</th>\n",
       "      <td>21 Oct 2022</td>\n",
       "      <td>Sidcup</td>\n",
       "      <td>18:00</td>\n",
       "      <td>4</td>\n",
       "    </tr>\n",
       "  </tbody>\n",
       "</table>\n",
       "</div>"
      ],
      "text/plain": [
       "           Date Location   Time  Availability\n",
       "1   21 Oct 2022   Sidcup  07:00             4\n",
       "2   21 Oct 2022   Sidcup  08:00             4\n",
       "11  21 Oct 2022   Sidcup  17:00             4\n",
       "12  21 Oct 2022   Sidcup  18:00             4"
      ]
     },
     "execution_count": 42,
     "metadata": {},
     "output_type": "execute_result"
    }
   ],
   "source": [
    "availability[availability[\"Availability\"] > 3]"
   ]
  },
  {
   "cell_type": "markdown",
   "id": "15e4182c",
   "metadata": {},
   "source": [
    "# Filtering by time\n",
    "Time can also be a constraint. So let's try and convert our time to a timestamp, and see if we can do queries based on time of the day.\n",
    "In this case the time column seems fairly inocuous. Date + Time could b econverted to a timestamp."
   ]
  },
  {
   "cell_type": "code",
   "execution_count": 43,
   "id": "d8db5424",
   "metadata": {},
   "outputs": [
    {
     "data": {
      "text/plain": [
       "0    2022-10-21 06:00:00\n",
       "1    2022-10-21 07:00:00\n",
       "2    2022-10-21 08:00:00\n",
       "3    2022-10-21 09:00:00\n",
       "4    2022-10-21 10:00:00\n",
       "5    2022-10-21 11:00:00\n",
       "6    2022-10-21 12:00:00\n",
       "7    2022-10-21 13:00:00\n",
       "8    2022-10-21 14:00:00\n",
       "9    2022-10-21 15:00:00\n",
       "10   2022-10-21 16:00:00\n",
       "11   2022-10-21 17:00:00\n",
       "12   2022-10-21 18:00:00\n",
       "13   2022-10-21 19:00:00\n",
       "14   2022-10-21 20:00:00\n",
       "15   2022-10-21 21:00:00\n",
       "dtype: datetime64[ns]"
      ]
     },
     "execution_count": 43,
     "metadata": {},
     "output_type": "execute_result"
    }
   ],
   "source": [
    "pd.to_datetime(availability[\"Date\"] + \" \" + availability[\"Time\"], format=\"%d %b %Y %H:%M\")"
   ]
  },
  {
   "cell_type": "markdown",
   "id": "b69ba2bf",
   "metadata": {},
   "source": [
    "Now we know how to convert the date and time to a datime object, so we can do queries based on the date plus time."
   ]
  },
  {
   "cell_type": "raw",
   "id": "7de11d7b-1165-40d3-b804-4fab551d8bd4",
   "metadata": {},
   "source": []
  },
  {
   "cell_type": "code",
   "execution_count": 35,
   "id": "dd547494",
   "metadata": {},
   "outputs": [],
   "source": [
    "from selenium.webdriver.common.keys import Keys\n",
    "import datetime\n",
    "from datetime import date\n",
    "import time\n",
    "import json\n",
    "\n",
    "def startBooking(driver):\n",
    "    bookNowButton = driver.find_element_by_xpath(\"/html/body/div/div[2]/div/landing-page-base/div/div/div[2]/landing-page-bookings-base/div/div[2]/account-booking-actions/div/div/div/a\")\n",
    "    bookNowButton.click()\n",
    "    \n",
    "def selectClub(club, driver):\n",
    "    driver.find_element_by_class_name(\"select2-selection__choice__remove\").click()\n",
    "    \n",
    "    select_site = driver.find_element_by_xpath(\"//span[contains(@class, 'select2-selection')]\")\n",
    "    is_expanded = select_site.get_attribute(\"aria-expanded\") == 'true'\n",
    "    print(is_expanded)\n",
    "    driver.find_element_by_xpath(f\"//li[text()='{club}']\").click()\n",
    "    \n",
    "    if not is_expanded:\n",
    "        print(\"About to open dropdown\")\n",
    "        wd.find_element_by_xpath(\"//span[@class='selection']\").click()\n",
    "\n",
    "def selectHome(driver):\n",
    "    driver.find_element_by_xpath(\"//*[@id='lgd-navigation-menu-options']/li[1]/a/span[2]\")\n",
    "\n",
    "def selectBadminton(driver):\n",
    "    driver.find_element_by_xpath('//input[@type=\"radio\" and @data-test-id=\"bookings-category-categories-racket-sports\"]').click()\n",
    "    driver.find_element_by_xpath('//input[@type=\"checkbox\" and @data-test-id=\"bookings-activities-activity-badminton-60-mins\"]').click()\n",
    "    driver.find_element_by_xpath('//button[@data-test-id=\"bookings-viewtimetable\"]').click()\n",
    "    \n",
    "def loginToSportsCenterWebsite():\n",
    "    driver = wd.Chrome()\n",
    "    driver.implicitly_wait(10)\n",
    "    \n",
    "    driver.get(\"https://legacyleisure.legendonlineservices.co.uk/crook_log/account/login\")\n",
    "    credentials = dict(line.strip().split('=') for line in open('docker/leisure_centre.properties'))\n",
    "    email_address = driver.find_element_by_xpath('//*[@id=\"account-login-email\"]')\n",
    "    email_address.send_keys(credentials[\"username\"])\n",
    "    \n",
    "    password = driver.find_element_by_xpath('//*[@id=\"account-login-password\"]')\n",
    "    password.send_keys(credentials[\"password\"])\n",
    "    \n",
    "    submitLoginButton = driver.find_element_by_xpath('//span[@id=\"account-login-submit-message\"]/ancestor::button')\n",
    "    submitLoginButton.click()\n",
    "    return driver\n",
    "\n",
    "# Using Dataframe.apply() to apply function to every row\n",
    "def calculate_max_duration(row, all_available_times):\n",
    "    startTime = row[\"Time\"]\n",
    "    duration = 1\n",
    "    previousTime = startTime\n",
    "    while True:\n",
    "        nextTime = previousTime + datetime.timedelta(hours=1)         \n",
    "        indices = all_available_times[\"Time\"] == nextTime\n",
    "        if not all_available_times.loc[indices].empty:\n",
    "           duration+=1\n",
    "           previousTime = nextTime\n",
    "        else:\n",
    "           break\n",
    "        \n",
    "    return duration\n",
    "        \n",
    "\n",
    "def getAvailabilityForDate(queryDate, driver):\n",
    "    queryDateStr = queryDate.strftime(\"%d %b %Y\")\n",
    "    # find date picker\n",
    "    datePicker = driver.find_element_by_xpath(\"//span[@class='Zebra_DatePicker_Icon_Wrapper']/input\")\n",
    "    datePicker.clear()\n",
    "    # set date\n",
    "    datePicker.send_keys(queryDateStr)\n",
    "    datePicker.send_keys(Keys.TAB);\n",
    "    # we need to wait because otherwise we pick an empty list of results\n",
    "    # there are different techniques to ensure that we have a fresh list of results\n",
    "    # for instance we could wait for a cer\n",
    "    current_date = datePicker.get_attribute('value')\n",
    "    time.sleep(3)\n",
    "    soup = BeautifulSoup(driver.page_source)\n",
    "    activity_rows = soup.findAll(\"div\", {\"class\": \"activityBox\"})\n",
    "    df_rows = []\n",
    "    for activity_row in activity_rows:\n",
    "        location = activity_row.find(\"div\", {\"class\": \"activityDetailsMajor\"})\n",
    "        timeOfDay= activity_row.find(\"div\", {\"class\": \"timeOfDay\"})\n",
    "        available = activity_row.find(\"div\", {\"class\": \"spaceDetailsText\"})\n",
    "        df_rows.append([current_date,location.text, timeOfDay.text, available.text])\n",
    "\n",
    "    df = pd.DataFrame(df_rows, columns=[\"Date\", \"Location\", \"Time\", \"Availability\"])\n",
    "    # complicated version with regex\n",
    "    df[\"Availability\"].str.replace(r\"(\\d+) Slots\", lambda m: m.group(1))\n",
    "    # simple version\n",
    "    df[\"Availability\"] = df[\"Availability\"].str.replace(\" Slots\", \"\").replace(\"Full\", \"0\")\n",
    "    df['Availability'] = pd.to_numeric(df['Availability'])\n",
    "    df['Time'] = pd.to_datetime(df[\"Date\"] + \" \" + df[\"Time\"], format=\"%d %b %Y %H:%M\")\n",
    "\n",
    "    return df\n",
    "\n",
    "\n",
    "\n",
    "def findAvailableSlots(clubs, earliestDate=date.today(), numberOfDaysInFuture=1, earliestTime=\"8:00\", latestTime=\"21:00\", numberOfHours=1, slots=1):\n",
    "    ''' Finds slots available using the given search criteria:\n",
    "    club: the name of the club for which we want to search for availability\n",
    "    earliestDate: the earliest date for which we want to look for available slots. If not specified, it defaults to today.\n",
    "    numberOfDaysInTheFuture: \n",
    "    earliestTime: the earliest time for which we are searching for slots\n",
    "    latestTime: the latest time for which we are searching for slots\n",
    "    numberOfHours: How long we want to play for\n",
    "    slots: How many Slots?\n",
    "    '''\n",
    "    # login\n",
    "    driver = loginToSportsCenterWebsite()\n",
    "    \n",
    "    for club in clubs:\n",
    "    \n",
    "        startBooking(driver)\n",
    "        selectClub(club, driver)\n",
    "        selectBadminton(driver)\n",
    "        startDate = earliestDate\n",
    "\n",
    "        dframes= []\n",
    "        for n in range(numberOfDaysInFuture+1):\n",
    "            df = getAvailabilityForDate(startDate + datetime.timedelta(days=n), driver)\n",
    "            # filter by number of slots\n",
    "            df = df[df[\"Availability\"] > slots]\n",
    "            # filter by time range\n",
    "            index = pd.DatetimeIndex(df['Time'])\n",
    "            df = df.iloc[index.indexer_between_time(earliestTime, latestTime)]\n",
    "            # # filter by desired duration\n",
    "            dframes.append(df)\n",
    "            # go back to home so we can search for availability in next club\n",
    "            selectHome(driver)\n",
    "\n",
    "\n",
    "\n",
    "        df = pd.concat(dframes)\n",
    "        df[\"Max Duration\"] = df.apply(lambda x:calculate_max_duration(x,df), axis=1)\n",
    "        df = df[df[\"Max Duration\"] >= numberOfHours]\n",
    "\n",
    "\n",
    "        json_result = df.to_json(orient=\"records\", date_format=\"iso\")\n",
    "        print(json_result)\n",
    "       \n",
    "    driver.close()\n",
    "    return {}"
   ]
  },
  {
   "cell_type": "code",
   "execution_count": 36,
   "id": "de174e90",
   "metadata": {},
   "outputs": [
    {
     "data": {
      "text/plain": [
       "range(0, 2)"
      ]
     },
     "execution_count": 36,
     "metadata": {},
     "output_type": "execute_result"
    }
   ],
   "source": [
    "range(2)"
   ]
  },
  {
   "cell_type": "code",
   "execution_count": 37,
   "id": "f9344193",
   "metadata": {},
   "outputs": [
    {
     "name": "stdout",
     "output_type": "stream",
     "text": [
      "True\n"
     ]
    },
    {
     "name": "stderr",
     "output_type": "stream",
     "text": [
      "C:\\Users\\armin\\AppData\\Local\\Temp/ipykernel_25692/995091136.py:86: FutureWarning: The default value of regex will change from True to False in a future version.\n",
      "  df[\"Availability\"].str.replace(r\"(\\d+) Slots\", lambda m: m.group(1))\n"
     ]
    },
    {
     "name": "stdout",
     "output_type": "stream",
     "text": [
      "[{\"Date\":\"26 Oct 2022\",\"Location\":\"Erith\",\"Time\":\"2022-10-26T20:00:00.000Z\",\"Availability\":4,\"Max Duration\":2}]\n"
     ]
    },
    {
     "ename": "NoSuchElementException",
     "evalue": "Message: no such element: Unable to locate element: {\"method\":\"xpath\",\"selector\":\"/html/body/div/div[2]/div/landing-page-base/div/div/div[2]/landing-page-bookings-base/div/div[2]/account-booking-actions/div/div/div/a\"}\n  (Session info: chrome=106.0.5249.119)\n",
     "output_type": "error",
     "traceback": [
      "\u001b[1;31m---------------------------------------------------------------------------\u001b[0m",
      "\u001b[1;31mNoSuchElementException\u001b[0m                    Traceback (most recent call last)",
      "\u001b[1;32m~\\AppData\\Local\\Temp/ipykernel_25692/1767418054.py\u001b[0m in \u001b[0;36m<module>\u001b[1;34m\u001b[0m\n\u001b[1;32m----> 1\u001b[1;33m \u001b[0mjson_result\u001b[0m \u001b[1;33m=\u001b[0m \u001b[0mfindAvailableSlots\u001b[0m\u001b[1;33m(\u001b[0m\u001b[1;33m[\u001b[0m\u001b[1;34m\"Erith\"\u001b[0m\u001b[1;33m,\u001b[0m\u001b[1;34m\"Sidcup\"\u001b[0m\u001b[1;33m]\u001b[0m\u001b[1;33m,\u001b[0m \u001b[0mnumberOfDaysInFuture\u001b[0m\u001b[1;33m=\u001b[0m\u001b[1;36m5\u001b[0m\u001b[1;33m,\u001b[0m \u001b[0mslots\u001b[0m\u001b[1;33m=\u001b[0m\u001b[1;36m1\u001b[0m\u001b[1;33m,\u001b[0m \u001b[0mearliestTime\u001b[0m\u001b[1;33m=\u001b[0m\u001b[1;34m\"19:00\"\u001b[0m\u001b[1;33m,\u001b[0m \u001b[0mlatestTime\u001b[0m\u001b[1;33m=\u001b[0m\u001b[1;34m\"21:00\"\u001b[0m\u001b[1;33m,\u001b[0m \u001b[0mnumberOfHours\u001b[0m\u001b[1;33m=\u001b[0m\u001b[1;36m2\u001b[0m \u001b[1;33m)\u001b[0m\u001b[1;33m\u001b[0m\u001b[1;33m\u001b[0m\u001b[0m\n\u001b[0m\u001b[0;32m      2\u001b[0m \u001b[1;33m\u001b[0m\u001b[0m\n\u001b[0;32m      3\u001b[0m \u001b[1;33m\u001b[0m\u001b[0m\n\u001b[0;32m      4\u001b[0m \u001b[0mjson_formatted_str\u001b[0m \u001b[1;33m=\u001b[0m \u001b[0mjson\u001b[0m\u001b[1;33m.\u001b[0m\u001b[0mdumps\u001b[0m\u001b[1;33m(\u001b[0m\u001b[0mjson\u001b[0m\u001b[1;33m.\u001b[0m\u001b[0mloads\u001b[0m\u001b[1;33m(\u001b[0m\u001b[0mjson_result\u001b[0m\u001b[1;33m)\u001b[0m\u001b[1;33m,\u001b[0m \u001b[0mindent\u001b[0m\u001b[1;33m=\u001b[0m\u001b[1;36m4\u001b[0m\u001b[1;33m)\u001b[0m\u001b[1;33m\u001b[0m\u001b[1;33m\u001b[0m\u001b[0m\n\u001b[0;32m      5\u001b[0m \u001b[0mprint\u001b[0m\u001b[1;33m(\u001b[0m\u001b[0mjson_formatted_str\u001b[0m\u001b[1;33m)\u001b[0m\u001b[1;33m\u001b[0m\u001b[1;33m\u001b[0m\u001b[0m\n",
      "\u001b[1;32m~\\AppData\\Local\\Temp/ipykernel_25692/995091136.py\u001b[0m in \u001b[0;36mfindAvailableSlots\u001b[1;34m(clubs, earliestDate, numberOfDaysInFuture, earliestTime, latestTime, numberOfHours, slots)\u001b[0m\n\u001b[0;32m    109\u001b[0m     \u001b[1;32mfor\u001b[0m \u001b[0mclub\u001b[0m \u001b[1;32min\u001b[0m \u001b[0mclubs\u001b[0m\u001b[1;33m:\u001b[0m\u001b[1;33m\u001b[0m\u001b[1;33m\u001b[0m\u001b[0m\n\u001b[0;32m    110\u001b[0m \u001b[1;33m\u001b[0m\u001b[0m\n\u001b[1;32m--> 111\u001b[1;33m         \u001b[0mstartBooking\u001b[0m\u001b[1;33m(\u001b[0m\u001b[0mdriver\u001b[0m\u001b[1;33m)\u001b[0m\u001b[1;33m\u001b[0m\u001b[1;33m\u001b[0m\u001b[0m\n\u001b[0m\u001b[0;32m    112\u001b[0m         \u001b[0mselectClub\u001b[0m\u001b[1;33m(\u001b[0m\u001b[0mclub\u001b[0m\u001b[1;33m,\u001b[0m \u001b[0mdriver\u001b[0m\u001b[1;33m)\u001b[0m\u001b[1;33m\u001b[0m\u001b[1;33m\u001b[0m\u001b[0m\n\u001b[0;32m    113\u001b[0m         \u001b[0mselectBadminton\u001b[0m\u001b[1;33m(\u001b[0m\u001b[0mdriver\u001b[0m\u001b[1;33m)\u001b[0m\u001b[1;33m\u001b[0m\u001b[1;33m\u001b[0m\u001b[0m\n",
      "\u001b[1;32m~\\AppData\\Local\\Temp/ipykernel_25692/995091136.py\u001b[0m in \u001b[0;36mstartBooking\u001b[1;34m(driver)\u001b[0m\n\u001b[0;32m      6\u001b[0m \u001b[1;33m\u001b[0m\u001b[0m\n\u001b[0;32m      7\u001b[0m \u001b[1;32mdef\u001b[0m \u001b[0mstartBooking\u001b[0m\u001b[1;33m(\u001b[0m\u001b[0mdriver\u001b[0m\u001b[1;33m)\u001b[0m\u001b[1;33m:\u001b[0m\u001b[1;33m\u001b[0m\u001b[1;33m\u001b[0m\u001b[0m\n\u001b[1;32m----> 8\u001b[1;33m     \u001b[0mbookNowButton\u001b[0m \u001b[1;33m=\u001b[0m \u001b[0mdriver\u001b[0m\u001b[1;33m.\u001b[0m\u001b[0mfind_element_by_xpath\u001b[0m\u001b[1;33m(\u001b[0m\u001b[1;34m\"/html/body/div/div[2]/div/landing-page-base/div/div/div[2]/landing-page-bookings-base/div/div[2]/account-booking-actions/div/div/div/a\"\u001b[0m\u001b[1;33m)\u001b[0m\u001b[1;33m\u001b[0m\u001b[1;33m\u001b[0m\u001b[0m\n\u001b[0m\u001b[0;32m      9\u001b[0m     \u001b[0mbookNowButton\u001b[0m\u001b[1;33m.\u001b[0m\u001b[0mclick\u001b[0m\u001b[1;33m(\u001b[0m\u001b[1;33m)\u001b[0m\u001b[1;33m\u001b[0m\u001b[1;33m\u001b[0m\u001b[0m\n\u001b[0;32m     10\u001b[0m \u001b[1;33m\u001b[0m\u001b[0m\n",
      "\u001b[1;32m~\\anaconda3\\envs\\badminton_bot\\lib\\site-packages\\selenium\\webdriver\\remote\\webdriver.py\u001b[0m in \u001b[0;36mfind_element_by_xpath\u001b[1;34m(self, xpath)\u001b[0m\n\u001b[0;32m    392\u001b[0m             \u001b[0melement\u001b[0m \u001b[1;33m=\u001b[0m \u001b[0mdriver\u001b[0m\u001b[1;33m.\u001b[0m\u001b[0mfind_element_by_xpath\u001b[0m\u001b[1;33m(\u001b[0m\u001b[1;34m'//div/td[1]'\u001b[0m\u001b[1;33m)\u001b[0m\u001b[1;33m\u001b[0m\u001b[1;33m\u001b[0m\u001b[0m\n\u001b[0;32m    393\u001b[0m         \"\"\"\n\u001b[1;32m--> 394\u001b[1;33m         \u001b[1;32mreturn\u001b[0m \u001b[0mself\u001b[0m\u001b[1;33m.\u001b[0m\u001b[0mfind_element\u001b[0m\u001b[1;33m(\u001b[0m\u001b[0mby\u001b[0m\u001b[1;33m=\u001b[0m\u001b[0mBy\u001b[0m\u001b[1;33m.\u001b[0m\u001b[0mXPATH\u001b[0m\u001b[1;33m,\u001b[0m \u001b[0mvalue\u001b[0m\u001b[1;33m=\u001b[0m\u001b[0mxpath\u001b[0m\u001b[1;33m)\u001b[0m\u001b[1;33m\u001b[0m\u001b[1;33m\u001b[0m\u001b[0m\n\u001b[0m\u001b[0;32m    395\u001b[0m \u001b[1;33m\u001b[0m\u001b[0m\n\u001b[0;32m    396\u001b[0m     \u001b[1;32mdef\u001b[0m \u001b[0mfind_elements_by_xpath\u001b[0m\u001b[1;33m(\u001b[0m\u001b[0mself\u001b[0m\u001b[1;33m,\u001b[0m \u001b[0mxpath\u001b[0m\u001b[1;33m)\u001b[0m\u001b[1;33m:\u001b[0m\u001b[1;33m\u001b[0m\u001b[1;33m\u001b[0m\u001b[0m\n",
      "\u001b[1;32m~\\anaconda3\\envs\\badminton_bot\\lib\\site-packages\\selenium\\webdriver\\remote\\webdriver.py\u001b[0m in \u001b[0;36mfind_element\u001b[1;34m(self, by, value)\u001b[0m\n\u001b[0;32m    974\u001b[0m                 \u001b[0mby\u001b[0m \u001b[1;33m=\u001b[0m \u001b[0mBy\u001b[0m\u001b[1;33m.\u001b[0m\u001b[0mCSS_SELECTOR\u001b[0m\u001b[1;33m\u001b[0m\u001b[1;33m\u001b[0m\u001b[0m\n\u001b[0;32m    975\u001b[0m                 \u001b[0mvalue\u001b[0m \u001b[1;33m=\u001b[0m \u001b[1;34m'[name=\"%s\"]'\u001b[0m \u001b[1;33m%\u001b[0m \u001b[0mvalue\u001b[0m\u001b[1;33m\u001b[0m\u001b[1;33m\u001b[0m\u001b[0m\n\u001b[1;32m--> 976\u001b[1;33m         return self.execute(Command.FIND_ELEMENT, {\n\u001b[0m\u001b[0;32m    977\u001b[0m             \u001b[1;34m'using'\u001b[0m\u001b[1;33m:\u001b[0m \u001b[0mby\u001b[0m\u001b[1;33m,\u001b[0m\u001b[1;33m\u001b[0m\u001b[1;33m\u001b[0m\u001b[0m\n\u001b[0;32m    978\u001b[0m             'value': value})['value']\n",
      "\u001b[1;32m~\\anaconda3\\envs\\badminton_bot\\lib\\site-packages\\selenium\\webdriver\\remote\\webdriver.py\u001b[0m in \u001b[0;36mexecute\u001b[1;34m(self, driver_command, params)\u001b[0m\n\u001b[0;32m    319\u001b[0m         \u001b[0mresponse\u001b[0m \u001b[1;33m=\u001b[0m \u001b[0mself\u001b[0m\u001b[1;33m.\u001b[0m\u001b[0mcommand_executor\u001b[0m\u001b[1;33m.\u001b[0m\u001b[0mexecute\u001b[0m\u001b[1;33m(\u001b[0m\u001b[0mdriver_command\u001b[0m\u001b[1;33m,\u001b[0m \u001b[0mparams\u001b[0m\u001b[1;33m)\u001b[0m\u001b[1;33m\u001b[0m\u001b[1;33m\u001b[0m\u001b[0m\n\u001b[0;32m    320\u001b[0m         \u001b[1;32mif\u001b[0m \u001b[0mresponse\u001b[0m\u001b[1;33m:\u001b[0m\u001b[1;33m\u001b[0m\u001b[1;33m\u001b[0m\u001b[0m\n\u001b[1;32m--> 321\u001b[1;33m             \u001b[0mself\u001b[0m\u001b[1;33m.\u001b[0m\u001b[0merror_handler\u001b[0m\u001b[1;33m.\u001b[0m\u001b[0mcheck_response\u001b[0m\u001b[1;33m(\u001b[0m\u001b[0mresponse\u001b[0m\u001b[1;33m)\u001b[0m\u001b[1;33m\u001b[0m\u001b[1;33m\u001b[0m\u001b[0m\n\u001b[0m\u001b[0;32m    322\u001b[0m             response['value'] = self._unwrap_value(\n\u001b[0;32m    323\u001b[0m                 response.get('value', None))\n",
      "\u001b[1;32m~\\anaconda3\\envs\\badminton_bot\\lib\\site-packages\\selenium\\webdriver\\remote\\errorhandler.py\u001b[0m in \u001b[0;36mcheck_response\u001b[1;34m(self, response)\u001b[0m\n\u001b[0;32m    240\u001b[0m                 \u001b[0malert_text\u001b[0m \u001b[1;33m=\u001b[0m \u001b[0mvalue\u001b[0m\u001b[1;33m[\u001b[0m\u001b[1;34m'alert'\u001b[0m\u001b[1;33m]\u001b[0m\u001b[1;33m.\u001b[0m\u001b[0mget\u001b[0m\u001b[1;33m(\u001b[0m\u001b[1;34m'text'\u001b[0m\u001b[1;33m)\u001b[0m\u001b[1;33m\u001b[0m\u001b[1;33m\u001b[0m\u001b[0m\n\u001b[0;32m    241\u001b[0m             \u001b[1;32mraise\u001b[0m \u001b[0mexception_class\u001b[0m\u001b[1;33m(\u001b[0m\u001b[0mmessage\u001b[0m\u001b[1;33m,\u001b[0m \u001b[0mscreen\u001b[0m\u001b[1;33m,\u001b[0m \u001b[0mstacktrace\u001b[0m\u001b[1;33m,\u001b[0m \u001b[0malert_text\u001b[0m\u001b[1;33m)\u001b[0m\u001b[1;33m\u001b[0m\u001b[1;33m\u001b[0m\u001b[0m\n\u001b[1;32m--> 242\u001b[1;33m         \u001b[1;32mraise\u001b[0m \u001b[0mexception_class\u001b[0m\u001b[1;33m(\u001b[0m\u001b[0mmessage\u001b[0m\u001b[1;33m,\u001b[0m \u001b[0mscreen\u001b[0m\u001b[1;33m,\u001b[0m \u001b[0mstacktrace\u001b[0m\u001b[1;33m)\u001b[0m\u001b[1;33m\u001b[0m\u001b[1;33m\u001b[0m\u001b[0m\n\u001b[0m\u001b[0;32m    243\u001b[0m \u001b[1;33m\u001b[0m\u001b[0m\n\u001b[0;32m    244\u001b[0m     \u001b[1;32mdef\u001b[0m \u001b[0m_value_or_default\u001b[0m\u001b[1;33m(\u001b[0m\u001b[0mself\u001b[0m\u001b[1;33m,\u001b[0m \u001b[0mobj\u001b[0m\u001b[1;33m,\u001b[0m \u001b[0mkey\u001b[0m\u001b[1;33m,\u001b[0m \u001b[0mdefault\u001b[0m\u001b[1;33m)\u001b[0m\u001b[1;33m:\u001b[0m\u001b[1;33m\u001b[0m\u001b[1;33m\u001b[0m\u001b[0m\n",
      "\u001b[1;31mNoSuchElementException\u001b[0m: Message: no such element: Unable to locate element: {\"method\":\"xpath\",\"selector\":\"/html/body/div/div[2]/div/landing-page-base/div/div/div[2]/landing-page-bookings-base/div/div[2]/account-booking-actions/div/div/div/a\"}\n  (Session info: chrome=106.0.5249.119)\n"
     ]
    }
   ],
   "source": [
    "json_result = findAvailableSlots([\"Erith\",\"Sidcup\"], numberOfDaysInFuture=5, slots=1, earliestTime=\"19:00\", latestTime=\"21:00\", numberOfHours=2 )  \n",
    "\n",
    "\n",
    "json_formatted_str = json.dumps(json.loads(json_result), indent=4)\n",
    "print(json_formatted_str)"
   ]
  },
  {
   "cell_type": "code",
   "execution_count": 109,
   "id": "19dd6799-a687-47a8-9ed4-3dcb84daa3ce",
   "metadata": {},
   "outputs": [
    {
     "data": {
      "text/plain": [
       "'[{\"Date\":\"19 Oct 2022\",\"Location\":\"Erith\",\"Time\":\"2022-10-19T20:00:00.000Z\",\"Availability\":4,\"Max Duration\":2}]'"
      ]
     },
     "metadata": {},
     "output_type": "display_data"
    },
    {
     "ename": "AttributeError",
     "evalue": "'str' object has no attribute 'to_json'",
     "output_type": "error",
     "traceback": [
      "\u001b[1;31m---------------------------------------------------------------------------\u001b[0m",
      "\u001b[1;31mAttributeError\u001b[0m                            Traceback (most recent call last)",
      "\u001b[1;32m~\\AppData\\Local\\Temp/ipykernel_36092/287274286.py\u001b[0m in \u001b[0;36m<module>\u001b[1;34m\u001b[0m\n\u001b[0;32m      1\u001b[0m \u001b[1;32mimport\u001b[0m \u001b[0mjson\u001b[0m\u001b[1;33m\u001b[0m\u001b[1;33m\u001b[0m\u001b[0m\n\u001b[0;32m      2\u001b[0m \u001b[0mdisplay\u001b[0m\u001b[1;33m(\u001b[0m\u001b[0mdf\u001b[0m\u001b[1;33m)\u001b[0m\u001b[1;33m\u001b[0m\u001b[1;33m\u001b[0m\u001b[0m\n\u001b[1;32m----> 3\u001b[1;33m \u001b[0mjson_result\u001b[0m \u001b[1;33m=\u001b[0m \u001b[0mdf\u001b[0m\u001b[1;33m.\u001b[0m\u001b[0mto_json\u001b[0m\u001b[1;33m(\u001b[0m\u001b[0morient\u001b[0m\u001b[1;33m=\u001b[0m\u001b[1;34m\"records\"\u001b[0m\u001b[1;33m,\u001b[0m \u001b[0mdate_format\u001b[0m\u001b[1;33m=\u001b[0m\u001b[1;34m\"iso\"\u001b[0m\u001b[1;33m)\u001b[0m\u001b[1;33m\u001b[0m\u001b[1;33m\u001b[0m\u001b[0m\n\u001b[0m\u001b[0;32m      4\u001b[0m \u001b[0mprint\u001b[0m\u001b[1;33m(\u001b[0m\u001b[0mtype\u001b[0m\u001b[1;33m(\u001b[0m\u001b[0mjson_result\u001b[0m\u001b[1;33m)\u001b[0m\u001b[1;33m)\u001b[0m\u001b[1;33m\u001b[0m\u001b[1;33m\u001b[0m\u001b[0m\n\u001b[0;32m      5\u001b[0m \u001b[0mjson_formatted_str\u001b[0m \u001b[1;33m=\u001b[0m \u001b[0mjson\u001b[0m\u001b[1;33m.\u001b[0m\u001b[0mdumps\u001b[0m\u001b[1;33m(\u001b[0m\u001b[0mjson\u001b[0m\u001b[1;33m.\u001b[0m\u001b[0mloads\u001b[0m\u001b[1;33m(\u001b[0m\u001b[0mjson_result\u001b[0m\u001b[1;33m)\u001b[0m\u001b[1;33m,\u001b[0m \u001b[0mindent\u001b[0m\u001b[1;33m=\u001b[0m\u001b[1;36m4\u001b[0m\u001b[1;33m)\u001b[0m\u001b[1;33m\u001b[0m\u001b[1;33m\u001b[0m\u001b[0m\n",
      "\u001b[1;31mAttributeError\u001b[0m: 'str' object has no attribute 'to_json'"
     ]
    }
   ],
   "source": [
    "import json\n",
    "display(df)\n",
    "json_result = df.to_json(orient=\"records\", date_format=\"iso\")\n",
    "print(type(json_result))\n",
    "json_formatted_str = json.dumps(json.loads(json_result), indent=4)\n",
    "print(json_formatted_str)"
   ]
  },
  {
   "cell_type": "code",
   "execution_count": 55,
   "id": "175fd1f0-ba6d-49f9-91b9-6630a8364a5f",
   "metadata": {},
   "outputs": [
    {
     "name": "stdout",
     "output_type": "stream",
     "text": [
      "<class 'pandas.core.frame.DataFrame'>\n",
      "Int64Index: 4 entries, 11 to 13\n",
      "Data columns (total 5 columns):\n",
      " #   Column        Non-Null Count  Dtype         \n",
      "---  ------        --------------  -----         \n",
      " 0   Date          4 non-null      object        \n",
      " 1   Location      4 non-null      object        \n",
      " 2   Time          4 non-null      datetime64[ns]\n",
      " 3   Availability  4 non-null      int64         \n",
      " 4   Max Duration  4 non-null      int64         \n",
      "dtypes: datetime64[ns](1), int64(2), object(2)\n",
      "memory usage: 192.0+ bytes\n"
     ]
    }
   ],
   "source": [
    "df.info()"
   ]
  },
  {
   "cell_type": "code",
   "execution_count": 90,
   "id": "0bcf0064",
   "metadata": {},
   "outputs": [
    {
     "data": {
      "text/html": [
       "<div>\n",
       "<style scoped>\n",
       "    .dataframe tbody tr th:only-of-type {\n",
       "        vertical-align: middle;\n",
       "    }\n",
       "\n",
       "    .dataframe tbody tr th {\n",
       "        vertical-align: top;\n",
       "    }\n",
       "\n",
       "    .dataframe thead th {\n",
       "        text-align: right;\n",
       "    }\n",
       "</style>\n",
       "<table border=\"1\" class=\"dataframe\">\n",
       "  <thead>\n",
       "    <tr style=\"text-align: right;\">\n",
       "      <th></th>\n",
       "      <th>Date</th>\n",
       "      <th>Location</th>\n",
       "      <th>Time</th>\n",
       "      <th>Availability</th>\n",
       "      <th>Max Duration</th>\n",
       "    </tr>\n",
       "  </thead>\n",
       "  <tbody>\n",
       "    <tr>\n",
       "      <th>12</th>\n",
       "      <td>19 Oct 2022</td>\n",
       "      <td>Erith</td>\n",
       "      <td>2022-10-19 20:00:00</td>\n",
       "      <td>4</td>\n",
       "      <td>2</td>\n",
       "    </tr>\n",
       "  </tbody>\n",
       "</table>\n",
       "</div>"
      ],
      "text/plain": [
       "           Date Location                Time  Availability  Max Duration\n",
       "12  19 Oct 2022    Erith 2022-10-19 20:00:00             4             2"
      ]
     },
     "execution_count": 90,
     "metadata": {},
     "output_type": "execute_result"
    }
   ],
   "source": [
    "df"
   ]
  },
  {
   "cell_type": "code",
   "execution_count": 57,
   "id": "2169c304-c2fe-4689-b3eb-3727911ca9e8",
   "metadata": {},
   "outputs": [],
   "source": []
  },
  {
   "cell_type": "code",
   "execution_count": 53,
   "id": "f15e7515-c23c-4ffe-aae8-e842b500a772",
   "metadata": {},
   "outputs": [
    {
     "data": {
      "text/html": [
       "<div>\n",
       "<style scoped>\n",
       "    .dataframe tbody tr th:only-of-type {\n",
       "        vertical-align: middle;\n",
       "    }\n",
       "\n",
       "    .dataframe tbody tr th {\n",
       "        vertical-align: top;\n",
       "    }\n",
       "\n",
       "    .dataframe thead th {\n",
       "        text-align: right;\n",
       "    }\n",
       "</style>\n",
       "<table border=\"1\" class=\"dataframe\">\n",
       "  <thead>\n",
       "    <tr style=\"text-align: right;\">\n",
       "      <th></th>\n",
       "      <th>Date</th>\n",
       "      <th>Location</th>\n",
       "      <th>Time</th>\n",
       "      <th>Availability</th>\n",
       "      <th>Max Duration</th>\n",
       "    </tr>\n",
       "  </thead>\n",
       "  <tbody>\n",
       "    <tr>\n",
       "      <th>11</th>\n",
       "      <td>18 Oct 2022</td>\n",
       "      <td>Sidcup</td>\n",
       "      <td>2022-10-18 17:00:00</td>\n",
       "      <td>3</td>\n",
       "      <td>1</td>\n",
       "    </tr>\n",
       "    <tr>\n",
       "      <th>11</th>\n",
       "      <td>20 Oct 2022</td>\n",
       "      <td>Sidcup</td>\n",
       "      <td>2022-10-20 17:00:00</td>\n",
       "      <td>3</td>\n",
       "      <td>2</td>\n",
       "    </tr>\n",
       "    <tr>\n",
       "      <th>12</th>\n",
       "      <td>20 Oct 2022</td>\n",
       "      <td>Sidcup</td>\n",
       "      <td>2022-10-20 18:00:00</td>\n",
       "      <td>3</td>\n",
       "      <td>1</td>\n",
       "    </tr>\n",
       "    <tr>\n",
       "      <th>11</th>\n",
       "      <td>21 Oct 2022</td>\n",
       "      <td>Sidcup</td>\n",
       "      <td>2022-10-21 17:00:00</td>\n",
       "      <td>4</td>\n",
       "      <td>4</td>\n",
       "    </tr>\n",
       "    <tr>\n",
       "      <th>12</th>\n",
       "      <td>21 Oct 2022</td>\n",
       "      <td>Sidcup</td>\n",
       "      <td>2022-10-21 18:00:00</td>\n",
       "      <td>4</td>\n",
       "      <td>3</td>\n",
       "    </tr>\n",
       "    <tr>\n",
       "      <th>13</th>\n",
       "      <td>21 Oct 2022</td>\n",
       "      <td>Sidcup</td>\n",
       "      <td>2022-10-21 19:00:00</td>\n",
       "      <td>3</td>\n",
       "      <td>2</td>\n",
       "    </tr>\n",
       "    <tr>\n",
       "      <th>14</th>\n",
       "      <td>21 Oct 2022</td>\n",
       "      <td>Sidcup</td>\n",
       "      <td>2022-10-21 20:00:00</td>\n",
       "      <td>2</td>\n",
       "      <td>1</td>\n",
       "    </tr>\n",
       "  </tbody>\n",
       "</table>\n",
       "</div>"
      ],
      "text/plain": [
       "           Date Location                Time  Availability  Max Duration\n",
       "11  18 Oct 2022   Sidcup 2022-10-18 17:00:00             3             1\n",
       "11  20 Oct 2022   Sidcup 2022-10-20 17:00:00             3             2\n",
       "12  20 Oct 2022   Sidcup 2022-10-20 18:00:00             3             1\n",
       "11  21 Oct 2022   Sidcup 2022-10-21 17:00:00             4             4\n",
       "12  21 Oct 2022   Sidcup 2022-10-21 18:00:00             4             3\n",
       "13  21 Oct 2022   Sidcup 2022-10-21 19:00:00             3             2\n",
       "14  21 Oct 2022   Sidcup 2022-10-21 20:00:00             2             1"
      ]
     },
     "execution_count": 53,
     "metadata": {},
     "output_type": "execute_result"
    }
   ],
   "source": [
    "# Using Dataframe.apply() to apply function to every row\n",
    "def calculate_max_duration(row):\n",
    "    startTime = row[\"Time\"]\n",
    "    duration = 1\n",
    "    previousTime = startTime\n",
    "    while True:\n",
    "        nextTime = previousTime + datetime.timedelta(hours=1)         \n",
    "        indices = df[\"Time\"] == nextTime\n",
    "        if not df.loc[indices].empty:\n",
    "           duration+=1\n",
    "           previousTime = nextTime\n",
    "        else:\n",
    "           break\n",
    "        \n",
    "    return duration\n",
    "        \n",
    "\n",
    "df['Max Duration'] = df.apply(calculate_max_duration, axis=1)\n",
    "df"
   ]
  },
  {
   "cell_type": "code",
   "execution_count": 13,
   "id": "7f2aaaff-e397-436e-8f4e-8c77aa966f86",
   "metadata": {},
   "outputs": [
    {
     "name": "stdout",
     "output_type": "stream",
     "text": [
      "Collecting discord.py\n",
      "  Downloading discord.py-2.0.1-py3-none-any.whl (1.1 MB)\n",
      "Collecting aiohttp<4,>=3.7.4\n",
      "  Downloading aiohttp-3.8.3-cp38-cp38-win_amd64.whl (324 kB)\n",
      "Requirement already satisfied: charset-normalizer<3.0,>=2.0 in c:\\users\\armin\\anaconda3\\envs\\badminton_bot\\lib\\site-packages (from aiohttp<4,>=3.7.4->discord.py) (2.0.4)\n",
      "Collecting yarl<2.0,>=1.0\n",
      "  Downloading yarl-1.8.1-cp38-cp38-win_amd64.whl (56 kB)\n",
      "Collecting multidict<7.0,>=4.5\n",
      "  Downloading multidict-6.0.2-cp38-cp38-win_amd64.whl (28 kB)\n",
      "Collecting aiosignal>=1.1.2\n",
      "  Downloading aiosignal-1.2.0-py3-none-any.whl (8.2 kB)\n",
      "Requirement already satisfied: attrs>=17.3.0 in c:\\users\\armin\\anaconda3\\envs\\badminton_bot\\lib\\site-packages (from aiohttp<4,>=3.7.4->discord.py) (21.4.0)\n",
      "Collecting frozenlist>=1.1.1\n",
      "  Downloading frozenlist-1.3.1-cp38-cp38-win_amd64.whl (34 kB)\n",
      "Collecting async-timeout<5.0,>=4.0.0a3\n",
      "  Downloading async_timeout-4.0.2-py3-none-any.whl (5.8 kB)\n",
      "Requirement already satisfied: idna>=2.0 in c:\\users\\armin\\anaconda3\\envs\\badminton_bot\\lib\\site-packages (from yarl<2.0,>=1.0->aiohttp<4,>=3.7.4->discord.py) (3.3)\n",
      "Installing collected packages: multidict, frozenlist, yarl, async-timeout, aiosignal, aiohttp, discord.py\n",
      "Successfully installed aiohttp-3.8.3 aiosignal-1.2.0 async-timeout-4.0.2 discord.py-2.0.1 frozenlist-1.3.1 multidict-6.0.2 yarl-1.8.1\n"
     ]
    }
   ],
   "source": [
    "!pip install discord.py"
   ]
  },
  {
   "cell_type": "code",
   "execution_count": 23,
   "id": "ad98e0ec-852c-488b-a7f3-d606cc403f29",
   "metadata": {},
   "outputs": [
    {
     "name": "stdout",
     "output_type": "stream",
     "text": [
      "^C\n"
     ]
    }
   ],
   "source": [
    "!python docker/src/bot.py"
   ]
  },
  {
   "cell_type": "code",
   "execution_count": 32,
   "id": "a288e4eb-8fff-43f0-bb51-50e823a2c531",
   "metadata": {},
   "outputs": [
    {
     "name": "stdout",
     "output_type": "stream",
     "text": [
      "There is availability in Erith on the 26 Oct 2022 at 20:00 for 4 court(s) for 2h\n"
     ]
    }
   ],
   "source": [
    "import json\n",
    "from dateutil import parser\n",
    "\n",
    "json_response = '[{\"Date\":\"26 Oct 2022\",\"Location\":\"Erith\",\"Time\":\"2022-10-26T20:00:00.000Z\",\"Availability\":4,\"Max Duration\":2}]'\n",
    "json_response_obj = json.loads(json_response)\n",
    "\n",
    "for available_time in json_response_obj:\n",
    "    date = available_time[\"Date\"]\n",
    "    time = available_time[\"Time\"]\n",
    "    time_obj = parser.parse(time)\n",
    "    date_to_str = time_obj.strftime(\"%H:%M\")\n",
    "   \n",
    "    number_of_courts= available_time[\"Availability\"]\n",
    "    max_duration=available_time[\"Max Duration\"]\n",
    "    location = available_time[\"Location\"]\n",
    "    response_item = f\"There is availability in {location} on the {date} at {date_to_str} for {number_of_courts} court(s) for {max_duration}h\"\n",
    "    print(response_item)\n",
    " "
   ]
  },
  {
   "cell_type": "code",
   "execution_count": 31,
   "id": "46928686-1be6-45cf-b366-78c107267754",
   "metadata": {},
   "outputs": [
    {
     "data": {
      "text/plain": [
       "datetime.datetime(2022, 10, 26, 20, 0, tzinfo=tzutc())"
      ]
     },
     "execution_count": 31,
     "metadata": {},
     "output_type": "execute_result"
    }
   ],
   "source": [
    "\n"
   ]
  },
  {
   "cell_type": "code",
   "execution_count": null,
   "id": "8fb704d1-6ff0-4ef8-896d-bb317fe7700e",
   "metadata": {},
   "outputs": [],
   "source": []
  }
 ],
 "metadata": {
  "kernelspec": {
   "display_name": "Python 3 (ipykernel)",
   "language": "python",
   "name": "python3"
  },
  "language_info": {
   "codemirror_mode": {
    "name": "ipython",
    "version": 3
   },
   "file_extension": ".py",
   "mimetype": "text/x-python",
   "name": "python",
   "nbconvert_exporter": "python",
   "pygments_lexer": "ipython3",
   "version": "3.8.12"
  }
 },
 "nbformat": 4,
 "nbformat_minor": 5
}
